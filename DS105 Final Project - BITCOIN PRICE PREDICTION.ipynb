{
 "cells": [
  {
   "cell_type": "code",
   "execution_count": 1,
   "metadata": {},
   "outputs": [],
   "source": [
    "import math\n",
    "import numpy as np\n",
    "import pandas as pd\n",
    "import matplotlib.pyplot as plt\n",
    "from sklearn.preprocessing import MinMaxScaler\n",
    "\n",
    "%matplotlib inline\n",
    "\n",
    "#importing the necessary libraries"
   ]
  },
  {
   "cell_type": "markdown",
   "metadata": {},
   "source": [
    "### Importing the Bitcoin dataset"
   ]
  },
  {
   "cell_type": "code",
   "execution_count": 2,
   "metadata": {},
   "outputs": [
    {
     "data": {
      "text/html": [
       "<div>\n",
       "<style scoped>\n",
       "    .dataframe tbody tr th:only-of-type {\n",
       "        vertical-align: middle;\n",
       "    }\n",
       "\n",
       "    .dataframe tbody tr th {\n",
       "        vertical-align: top;\n",
       "    }\n",
       "\n",
       "    .dataframe thead th {\n",
       "        text-align: right;\n",
       "    }\n",
       "</style>\n",
       "<table border=\"1\" class=\"dataframe\">\n",
       "  <thead>\n",
       "    <tr style=\"text-align: right;\">\n",
       "      <th></th>\n",
       "      <th>SNo</th>\n",
       "      <th>Name</th>\n",
       "      <th>Symbol</th>\n",
       "      <th>Date</th>\n",
       "      <th>High</th>\n",
       "      <th>Low</th>\n",
       "      <th>Open</th>\n",
       "      <th>Close</th>\n",
       "      <th>Volume</th>\n",
       "      <th>Marketcap</th>\n",
       "    </tr>\n",
       "  </thead>\n",
       "  <tbody>\n",
       "    <tr>\n",
       "      <th>0</th>\n",
       "      <td>1</td>\n",
       "      <td>Bitcoin</td>\n",
       "      <td>BTC</td>\n",
       "      <td>2013-04-29 23:59:59</td>\n",
       "      <td>147.488007</td>\n",
       "      <td>134.000000</td>\n",
       "      <td>134.444000</td>\n",
       "      <td>144.539993</td>\n",
       "      <td>0.000000e+00</td>\n",
       "      <td>1.603769e+09</td>\n",
       "    </tr>\n",
       "    <tr>\n",
       "      <th>1</th>\n",
       "      <td>2</td>\n",
       "      <td>Bitcoin</td>\n",
       "      <td>BTC</td>\n",
       "      <td>2013-04-30 23:59:59</td>\n",
       "      <td>146.929993</td>\n",
       "      <td>134.050003</td>\n",
       "      <td>144.000000</td>\n",
       "      <td>139.000000</td>\n",
       "      <td>0.000000e+00</td>\n",
       "      <td>1.542813e+09</td>\n",
       "    </tr>\n",
       "    <tr>\n",
       "      <th>2</th>\n",
       "      <td>3</td>\n",
       "      <td>Bitcoin</td>\n",
       "      <td>BTC</td>\n",
       "      <td>2013-05-01 23:59:59</td>\n",
       "      <td>139.889999</td>\n",
       "      <td>107.720001</td>\n",
       "      <td>139.000000</td>\n",
       "      <td>116.989998</td>\n",
       "      <td>0.000000e+00</td>\n",
       "      <td>1.298955e+09</td>\n",
       "    </tr>\n",
       "    <tr>\n",
       "      <th>3</th>\n",
       "      <td>4</td>\n",
       "      <td>Bitcoin</td>\n",
       "      <td>BTC</td>\n",
       "      <td>2013-05-02 23:59:59</td>\n",
       "      <td>125.599998</td>\n",
       "      <td>92.281898</td>\n",
       "      <td>116.379997</td>\n",
       "      <td>105.209999</td>\n",
       "      <td>0.000000e+00</td>\n",
       "      <td>1.168517e+09</td>\n",
       "    </tr>\n",
       "    <tr>\n",
       "      <th>4</th>\n",
       "      <td>5</td>\n",
       "      <td>Bitcoin</td>\n",
       "      <td>BTC</td>\n",
       "      <td>2013-05-03 23:59:59</td>\n",
       "      <td>108.127998</td>\n",
       "      <td>79.099998</td>\n",
       "      <td>106.250000</td>\n",
       "      <td>97.750000</td>\n",
       "      <td>0.000000e+00</td>\n",
       "      <td>1.085995e+09</td>\n",
       "    </tr>\n",
       "    <tr>\n",
       "      <th>...</th>\n",
       "      <td>...</td>\n",
       "      <td>...</td>\n",
       "      <td>...</td>\n",
       "      <td>...</td>\n",
       "      <td>...</td>\n",
       "      <td>...</td>\n",
       "      <td>...</td>\n",
       "      <td>...</td>\n",
       "      <td>...</td>\n",
       "      <td>...</td>\n",
       "    </tr>\n",
       "    <tr>\n",
       "      <th>2986</th>\n",
       "      <td>2987</td>\n",
       "      <td>Bitcoin</td>\n",
       "      <td>BTC</td>\n",
       "      <td>2021-07-02 23:59:59</td>\n",
       "      <td>33939.588699</td>\n",
       "      <td>32770.680780</td>\n",
       "      <td>33549.600177</td>\n",
       "      <td>33897.048590</td>\n",
       "      <td>3.872897e+10</td>\n",
       "      <td>6.354508e+11</td>\n",
       "    </tr>\n",
       "    <tr>\n",
       "      <th>2987</th>\n",
       "      <td>2988</td>\n",
       "      <td>Bitcoin</td>\n",
       "      <td>BTC</td>\n",
       "      <td>2021-07-03 23:59:59</td>\n",
       "      <td>34909.259899</td>\n",
       "      <td>33402.696536</td>\n",
       "      <td>33854.421362</td>\n",
       "      <td>34668.548402</td>\n",
       "      <td>2.438396e+10</td>\n",
       "      <td>6.499397e+11</td>\n",
       "    </tr>\n",
       "    <tr>\n",
       "      <th>2988</th>\n",
       "      <td>2989</td>\n",
       "      <td>Bitcoin</td>\n",
       "      <td>BTC</td>\n",
       "      <td>2021-07-04 23:59:59</td>\n",
       "      <td>35937.567147</td>\n",
       "      <td>34396.477458</td>\n",
       "      <td>34665.564866</td>\n",
       "      <td>35287.779766</td>\n",
       "      <td>2.492431e+10</td>\n",
       "      <td>6.615748e+11</td>\n",
       "    </tr>\n",
       "    <tr>\n",
       "      <th>2989</th>\n",
       "      <td>2990</td>\n",
       "      <td>Bitcoin</td>\n",
       "      <td>BTC</td>\n",
       "      <td>2021-07-05 23:59:59</td>\n",
       "      <td>35284.344430</td>\n",
       "      <td>33213.661034</td>\n",
       "      <td>35284.344430</td>\n",
       "      <td>33746.002456</td>\n",
       "      <td>2.672155e+10</td>\n",
       "      <td>6.326962e+11</td>\n",
       "    </tr>\n",
       "    <tr>\n",
       "      <th>2990</th>\n",
       "      <td>2991</td>\n",
       "      <td>Bitcoin</td>\n",
       "      <td>BTC</td>\n",
       "      <td>2021-07-06 23:59:59</td>\n",
       "      <td>35038.536363</td>\n",
       "      <td>33599.916169</td>\n",
       "      <td>33723.509655</td>\n",
       "      <td>34235.193451</td>\n",
       "      <td>2.650126e+10</td>\n",
       "      <td>6.418992e+11</td>\n",
       "    </tr>\n",
       "  </tbody>\n",
       "</table>\n",
       "<p>2991 rows × 10 columns</p>\n",
       "</div>"
      ],
      "text/plain": [
       "       SNo     Name Symbol                 Date          High           Low  \\\n",
       "0        1  Bitcoin    BTC  2013-04-29 23:59:59    147.488007    134.000000   \n",
       "1        2  Bitcoin    BTC  2013-04-30 23:59:59    146.929993    134.050003   \n",
       "2        3  Bitcoin    BTC  2013-05-01 23:59:59    139.889999    107.720001   \n",
       "3        4  Bitcoin    BTC  2013-05-02 23:59:59    125.599998     92.281898   \n",
       "4        5  Bitcoin    BTC  2013-05-03 23:59:59    108.127998     79.099998   \n",
       "...    ...      ...    ...                  ...           ...           ...   \n",
       "2986  2987  Bitcoin    BTC  2021-07-02 23:59:59  33939.588699  32770.680780   \n",
       "2987  2988  Bitcoin    BTC  2021-07-03 23:59:59  34909.259899  33402.696536   \n",
       "2988  2989  Bitcoin    BTC  2021-07-04 23:59:59  35937.567147  34396.477458   \n",
       "2989  2990  Bitcoin    BTC  2021-07-05 23:59:59  35284.344430  33213.661034   \n",
       "2990  2991  Bitcoin    BTC  2021-07-06 23:59:59  35038.536363  33599.916169   \n",
       "\n",
       "              Open         Close        Volume     Marketcap  \n",
       "0       134.444000    144.539993  0.000000e+00  1.603769e+09  \n",
       "1       144.000000    139.000000  0.000000e+00  1.542813e+09  \n",
       "2       139.000000    116.989998  0.000000e+00  1.298955e+09  \n",
       "3       116.379997    105.209999  0.000000e+00  1.168517e+09  \n",
       "4       106.250000     97.750000  0.000000e+00  1.085995e+09  \n",
       "...            ...           ...           ...           ...  \n",
       "2986  33549.600177  33897.048590  3.872897e+10  6.354508e+11  \n",
       "2987  33854.421362  34668.548402  2.438396e+10  6.499397e+11  \n",
       "2988  34665.564866  35287.779766  2.492431e+10  6.615748e+11  \n",
       "2989  35284.344430  33746.002456  2.672155e+10  6.326962e+11  \n",
       "2990  33723.509655  34235.193451  2.650126e+10  6.418992e+11  \n",
       "\n",
       "[2991 rows x 10 columns]"
      ]
     },
     "execution_count": 2,
     "metadata": {},
     "output_type": "execute_result"
    }
   ],
   "source": [
    "bitcoin_df = pd.read_csv('coin_Bitcoin.csv')\n",
    "bitcoin_df\n",
    "\n",
    "#importing Bitcoin dataset"
   ]
  },
  {
   "cell_type": "code",
   "execution_count": 3,
   "metadata": {},
   "outputs": [
    {
     "data": {
      "text/html": [
       "<div>\n",
       "<style scoped>\n",
       "    .dataframe tbody tr th:only-of-type {\n",
       "        vertical-align: middle;\n",
       "    }\n",
       "\n",
       "    .dataframe tbody tr th {\n",
       "        vertical-align: top;\n",
       "    }\n",
       "\n",
       "    .dataframe thead th {\n",
       "        text-align: right;\n",
       "    }\n",
       "</style>\n",
       "<table border=\"1\" class=\"dataframe\">\n",
       "  <thead>\n",
       "    <tr style=\"text-align: right;\">\n",
       "      <th></th>\n",
       "      <th>Date</th>\n",
       "      <th>Open</th>\n",
       "      <th>High</th>\n",
       "      <th>Low</th>\n",
       "      <th>Close</th>\n",
       "      <th>Adj Close</th>\n",
       "      <th>Volume</th>\n",
       "    </tr>\n",
       "  </thead>\n",
       "  <tbody>\n",
       "    <tr>\n",
       "      <th>0</th>\n",
       "      <td>2021-07-07</td>\n",
       "      <td>34225.679688</td>\n",
       "      <td>34997.664063</td>\n",
       "      <td>33839.289063</td>\n",
       "      <td>33855.328125</td>\n",
       "      <td>33855.328125</td>\n",
       "      <td>24796027477</td>\n",
       "    </tr>\n",
       "    <tr>\n",
       "      <th>1</th>\n",
       "      <td>2021-07-08</td>\n",
       "      <td>33889.605469</td>\n",
       "      <td>33907.906250</td>\n",
       "      <td>32133.183594</td>\n",
       "      <td>32877.371094</td>\n",
       "      <td>32877.371094</td>\n",
       "      <td>29910396946</td>\n",
       "    </tr>\n",
       "    <tr>\n",
       "      <th>2</th>\n",
       "      <td>2021-07-09</td>\n",
       "      <td>32861.671875</td>\n",
       "      <td>34042.292969</td>\n",
       "      <td>32318.880859</td>\n",
       "      <td>33798.011719</td>\n",
       "      <td>33798.011719</td>\n",
       "      <td>27436021028</td>\n",
       "    </tr>\n",
       "    <tr>\n",
       "      <th>3</th>\n",
       "      <td>2021-07-10</td>\n",
       "      <td>33811.242188</td>\n",
       "      <td>34209.070313</td>\n",
       "      <td>33116.011719</td>\n",
       "      <td>33520.519531</td>\n",
       "      <td>33520.519531</td>\n",
       "      <td>22971873468</td>\n",
       "    </tr>\n",
       "    <tr>\n",
       "      <th>4</th>\n",
       "      <td>2021-07-11</td>\n",
       "      <td>33509.078125</td>\n",
       "      <td>34584.703125</td>\n",
       "      <td>33346.738281</td>\n",
       "      <td>34240.187500</td>\n",
       "      <td>34240.187500</td>\n",
       "      <td>20108729370</td>\n",
       "    </tr>\n",
       "  </tbody>\n",
       "</table>\n",
       "</div>"
      ],
      "text/plain": [
       "         Date          Open          High           Low         Close  \\\n",
       "0  2021-07-07  34225.679688  34997.664063  33839.289063  33855.328125   \n",
       "1  2021-07-08  33889.605469  33907.906250  32133.183594  32877.371094   \n",
       "2  2021-07-09  32861.671875  34042.292969  32318.880859  33798.011719   \n",
       "3  2021-07-10  33811.242188  34209.070313  33116.011719  33520.519531   \n",
       "4  2021-07-11  33509.078125  34584.703125  33346.738281  34240.187500   \n",
       "\n",
       "      Adj Close       Volume  \n",
       "0  33855.328125  24796027477  \n",
       "1  32877.371094  29910396946  \n",
       "2  33798.011719  27436021028  \n",
       "3  33520.519531  22971873468  \n",
       "4  34240.187500  20108729370  "
      ]
     },
     "execution_count": 3,
     "metadata": {},
     "output_type": "execute_result"
    }
   ],
   "source": [
    "bitcoin_updated_df = pd.read_csv(''\"BITCOIN PRICE_ REMAINING.csv\")          #importing a separate Bitcoin dataset from Yahoo Finance with data from 7 Jul 2021 till 24 Nov 2022\n",
    "bitcoin_updated_df.head()"
   ]
  },
  {
   "cell_type": "code",
   "execution_count": 4,
   "metadata": {},
   "outputs": [
    {
     "data": {
      "text/html": [
       "<div>\n",
       "<style scoped>\n",
       "    .dataframe tbody tr th:only-of-type {\n",
       "        vertical-align: middle;\n",
       "    }\n",
       "\n",
       "    .dataframe tbody tr th {\n",
       "        vertical-align: top;\n",
       "    }\n",
       "\n",
       "    .dataframe thead th {\n",
       "        text-align: right;\n",
       "    }\n",
       "</style>\n",
       "<table border=\"1\" class=\"dataframe\">\n",
       "  <thead>\n",
       "    <tr style=\"text-align: right;\">\n",
       "      <th></th>\n",
       "      <th>SNo</th>\n",
       "      <th>Name</th>\n",
       "      <th>Symbol</th>\n",
       "      <th>Date</th>\n",
       "      <th>High</th>\n",
       "      <th>Low</th>\n",
       "      <th>Open</th>\n",
       "      <th>Close</th>\n",
       "      <th>Volume</th>\n",
       "      <th>Marketcap</th>\n",
       "      <th>Adj Close</th>\n",
       "    </tr>\n",
       "  </thead>\n",
       "  <tbody>\n",
       "    <tr>\n",
       "      <th>0</th>\n",
       "      <td>1.0</td>\n",
       "      <td>Bitcoin</td>\n",
       "      <td>BTC</td>\n",
       "      <td>2013-04-29 23:59:59</td>\n",
       "      <td>147.488007</td>\n",
       "      <td>134.000000</td>\n",
       "      <td>134.444000</td>\n",
       "      <td>144.539993</td>\n",
       "      <td>0.000000e+00</td>\n",
       "      <td>1.603769e+09</td>\n",
       "      <td>NaN</td>\n",
       "    </tr>\n",
       "    <tr>\n",
       "      <th>1</th>\n",
       "      <td>2.0</td>\n",
       "      <td>Bitcoin</td>\n",
       "      <td>BTC</td>\n",
       "      <td>2013-04-30 23:59:59</td>\n",
       "      <td>146.929993</td>\n",
       "      <td>134.050003</td>\n",
       "      <td>144.000000</td>\n",
       "      <td>139.000000</td>\n",
       "      <td>0.000000e+00</td>\n",
       "      <td>1.542813e+09</td>\n",
       "      <td>NaN</td>\n",
       "    </tr>\n",
       "    <tr>\n",
       "      <th>2</th>\n",
       "      <td>3.0</td>\n",
       "      <td>Bitcoin</td>\n",
       "      <td>BTC</td>\n",
       "      <td>2013-05-01 23:59:59</td>\n",
       "      <td>139.889999</td>\n",
       "      <td>107.720001</td>\n",
       "      <td>139.000000</td>\n",
       "      <td>116.989998</td>\n",
       "      <td>0.000000e+00</td>\n",
       "      <td>1.298955e+09</td>\n",
       "      <td>NaN</td>\n",
       "    </tr>\n",
       "    <tr>\n",
       "      <th>3</th>\n",
       "      <td>4.0</td>\n",
       "      <td>Bitcoin</td>\n",
       "      <td>BTC</td>\n",
       "      <td>2013-05-02 23:59:59</td>\n",
       "      <td>125.599998</td>\n",
       "      <td>92.281898</td>\n",
       "      <td>116.379997</td>\n",
       "      <td>105.209999</td>\n",
       "      <td>0.000000e+00</td>\n",
       "      <td>1.168517e+09</td>\n",
       "      <td>NaN</td>\n",
       "    </tr>\n",
       "    <tr>\n",
       "      <th>4</th>\n",
       "      <td>5.0</td>\n",
       "      <td>Bitcoin</td>\n",
       "      <td>BTC</td>\n",
       "      <td>2013-05-03 23:59:59</td>\n",
       "      <td>108.127998</td>\n",
       "      <td>79.099998</td>\n",
       "      <td>106.250000</td>\n",
       "      <td>97.750000</td>\n",
       "      <td>0.000000e+00</td>\n",
       "      <td>1.085995e+09</td>\n",
       "      <td>NaN</td>\n",
       "    </tr>\n",
       "    <tr>\n",
       "      <th>...</th>\n",
       "      <td>...</td>\n",
       "      <td>...</td>\n",
       "      <td>...</td>\n",
       "      <td>...</td>\n",
       "      <td>...</td>\n",
       "      <td>...</td>\n",
       "      <td>...</td>\n",
       "      <td>...</td>\n",
       "      <td>...</td>\n",
       "      <td>...</td>\n",
       "      <td>...</td>\n",
       "    </tr>\n",
       "    <tr>\n",
       "      <th>501</th>\n",
       "      <td>NaN</td>\n",
       "      <td>NaN</td>\n",
       "      <td>NaN</td>\n",
       "      <td>2022-11-20</td>\n",
       "      <td>16746.779297</td>\n",
       "      <td>16248.692383</td>\n",
       "      <td>16712.919922</td>\n",
       "      <td>16291.832031</td>\n",
       "      <td>2.131338e+10</td>\n",
       "      <td>NaN</td>\n",
       "      <td>16291.832031</td>\n",
       "    </tr>\n",
       "    <tr>\n",
       "      <th>502</th>\n",
       "      <td>NaN</td>\n",
       "      <td>NaN</td>\n",
       "      <td>NaN</td>\n",
       "      <td>2022-11-21</td>\n",
       "      <td>16291.223633</td>\n",
       "      <td>15599.046875</td>\n",
       "      <td>16291.223633</td>\n",
       "      <td>15787.284180</td>\n",
       "      <td>3.742949e+10</td>\n",
       "      <td>NaN</td>\n",
       "      <td>15787.284180</td>\n",
       "    </tr>\n",
       "    <tr>\n",
       "      <th>503</th>\n",
       "      <td>NaN</td>\n",
       "      <td>NaN</td>\n",
       "      <td>NaN</td>\n",
       "      <td>2022-11-22</td>\n",
       "      <td>16253.047852</td>\n",
       "      <td>15656.606445</td>\n",
       "      <td>15782.300781</td>\n",
       "      <td>16189.769531</td>\n",
       "      <td>3.072683e+10</td>\n",
       "      <td>NaN</td>\n",
       "      <td>16189.769531</td>\n",
       "    </tr>\n",
       "    <tr>\n",
       "      <th>504</th>\n",
       "      <td>NaN</td>\n",
       "      <td>NaN</td>\n",
       "      <td>NaN</td>\n",
       "      <td>2022-11-23</td>\n",
       "      <td>16638.193359</td>\n",
       "      <td>16170.502930</td>\n",
       "      <td>16195.588867</td>\n",
       "      <td>16610.707031</td>\n",
       "      <td>3.295888e+10</td>\n",
       "      <td>NaN</td>\n",
       "      <td>16610.707031</td>\n",
       "    </tr>\n",
       "    <tr>\n",
       "      <th>505</th>\n",
       "      <td>NaN</td>\n",
       "      <td>NaN</td>\n",
       "      <td>NaN</td>\n",
       "      <td>2022-11-24</td>\n",
       "      <td>16771.474609</td>\n",
       "      <td>16523.591797</td>\n",
       "      <td>16598.087891</td>\n",
       "      <td>16548.230469</td>\n",
       "      <td>3.002266e+10</td>\n",
       "      <td>NaN</td>\n",
       "      <td>16548.230469</td>\n",
       "    </tr>\n",
       "  </tbody>\n",
       "</table>\n",
       "<p>3497 rows × 11 columns</p>\n",
       "</div>"
      ],
      "text/plain": [
       "     SNo     Name Symbol                 Date          High           Low  \\\n",
       "0    1.0  Bitcoin    BTC  2013-04-29 23:59:59    147.488007    134.000000   \n",
       "1    2.0  Bitcoin    BTC  2013-04-30 23:59:59    146.929993    134.050003   \n",
       "2    3.0  Bitcoin    BTC  2013-05-01 23:59:59    139.889999    107.720001   \n",
       "3    4.0  Bitcoin    BTC  2013-05-02 23:59:59    125.599998     92.281898   \n",
       "4    5.0  Bitcoin    BTC  2013-05-03 23:59:59    108.127998     79.099998   \n",
       "..   ...      ...    ...                  ...           ...           ...   \n",
       "501  NaN      NaN    NaN           2022-11-20  16746.779297  16248.692383   \n",
       "502  NaN      NaN    NaN           2022-11-21  16291.223633  15599.046875   \n",
       "503  NaN      NaN    NaN           2022-11-22  16253.047852  15656.606445   \n",
       "504  NaN      NaN    NaN           2022-11-23  16638.193359  16170.502930   \n",
       "505  NaN      NaN    NaN           2022-11-24  16771.474609  16523.591797   \n",
       "\n",
       "             Open         Close        Volume     Marketcap     Adj Close  \n",
       "0      134.444000    144.539993  0.000000e+00  1.603769e+09           NaN  \n",
       "1      144.000000    139.000000  0.000000e+00  1.542813e+09           NaN  \n",
       "2      139.000000    116.989998  0.000000e+00  1.298955e+09           NaN  \n",
       "3      116.379997    105.209999  0.000000e+00  1.168517e+09           NaN  \n",
       "4      106.250000     97.750000  0.000000e+00  1.085995e+09           NaN  \n",
       "..            ...           ...           ...           ...           ...  \n",
       "501  16712.919922  16291.832031  2.131338e+10           NaN  16291.832031  \n",
       "502  16291.223633  15787.284180  3.742949e+10           NaN  15787.284180  \n",
       "503  15782.300781  16189.769531  3.072683e+10           NaN  16189.769531  \n",
       "504  16195.588867  16610.707031  3.295888e+10           NaN  16610.707031  \n",
       "505  16598.087891  16548.230469  3.002266e+10           NaN  16548.230469  \n",
       "\n",
       "[3497 rows x 11 columns]"
      ]
     },
     "execution_count": 4,
     "metadata": {},
     "output_type": "execute_result"
    }
   ],
   "source": [
    "bitcoin_df = pd.concat([bitcoin_df,bitcoin_updated_df], axis = 0)\n",
    "bitcoin_df      \n",
    "\n",
    "#updating the bitcoin dataset so that we have data all the way till 24 Nov 2022 (considered to be current day)"
   ]
  },
  {
   "cell_type": "markdown",
   "metadata": {},
   "source": [
    "### Checking for null values"
   ]
  },
  {
   "cell_type": "code",
   "execution_count": 5,
   "metadata": {},
   "outputs": [
    {
     "data": {
      "text/plain": [
       "SNo           506\n",
       "Name          506\n",
       "Symbol        506\n",
       "Date            0\n",
       "High            0\n",
       "Low             0\n",
       "Open            0\n",
       "Close           0\n",
       "Volume          0\n",
       "Marketcap     506\n",
       "Adj Close    2991\n",
       "dtype: int64"
      ]
     },
     "execution_count": 5,
     "metadata": {},
     "output_type": "execute_result"
    }
   ],
   "source": [
    "bitcoin_df.isnull().sum()\n",
    "\n",
    "#checking for null values. Null values are all in columns which we are not using, hence we can ignore them."
   ]
  },
  {
   "cell_type": "markdown",
   "metadata": {},
   "source": [
    "### Checking for duplicated data"
   ]
  },
  {
   "cell_type": "code",
   "execution_count": 6,
   "metadata": {},
   "outputs": [
    {
     "data": {
      "text/plain": [
       "0"
      ]
     },
     "execution_count": 6,
     "metadata": {},
     "output_type": "execute_result"
    }
   ],
   "source": [
    "bitcoin_df.duplicated().sum()\n",
    "\n",
    "#checking for duplicate data"
   ]
  },
  {
   "cell_type": "markdown",
   "metadata": {},
   "source": [
    "### Converting Date column into datetime "
   ]
  },
  {
   "cell_type": "code",
   "execution_count": 7,
   "metadata": {},
   "outputs": [],
   "source": [
    "import datetime as dt"
   ]
  },
  {
   "cell_type": "code",
   "execution_count": 8,
   "metadata": {},
   "outputs": [],
   "source": [
    "bitcoin_df['Date'] = pd.to_datetime(bitcoin_df['Date'])\n",
    "\n"
   ]
  },
  {
   "cell_type": "code",
   "execution_count": 9,
   "metadata": {},
   "outputs": [],
   "source": [
    "bitcoin_df['Date'] = bitcoin_df['Date'].dt.date\n"
   ]
  },
  {
   "cell_type": "code",
   "execution_count": 10,
   "metadata": {},
   "outputs": [
    {
     "data": {
      "text/html": [
       "<div>\n",
       "<style scoped>\n",
       "    .dataframe tbody tr th:only-of-type {\n",
       "        vertical-align: middle;\n",
       "    }\n",
       "\n",
       "    .dataframe tbody tr th {\n",
       "        vertical-align: top;\n",
       "    }\n",
       "\n",
       "    .dataframe thead th {\n",
       "        text-align: right;\n",
       "    }\n",
       "</style>\n",
       "<table border=\"1\" class=\"dataframe\">\n",
       "  <thead>\n",
       "    <tr style=\"text-align: right;\">\n",
       "      <th></th>\n",
       "      <th>SNo</th>\n",
       "      <th>Name</th>\n",
       "      <th>Symbol</th>\n",
       "      <th>Date</th>\n",
       "      <th>High</th>\n",
       "      <th>Low</th>\n",
       "      <th>Open</th>\n",
       "      <th>Close</th>\n",
       "      <th>Volume</th>\n",
       "      <th>Marketcap</th>\n",
       "      <th>Adj Close</th>\n",
       "    </tr>\n",
       "  </thead>\n",
       "  <tbody>\n",
       "    <tr>\n",
       "      <th>0</th>\n",
       "      <td>1.0</td>\n",
       "      <td>Bitcoin</td>\n",
       "      <td>BTC</td>\n",
       "      <td>2013-04-29</td>\n",
       "      <td>147.488007</td>\n",
       "      <td>134.000000</td>\n",
       "      <td>134.444000</td>\n",
       "      <td>144.539993</td>\n",
       "      <td>0.0</td>\n",
       "      <td>1.603769e+09</td>\n",
       "      <td>NaN</td>\n",
       "    </tr>\n",
       "    <tr>\n",
       "      <th>1</th>\n",
       "      <td>2.0</td>\n",
       "      <td>Bitcoin</td>\n",
       "      <td>BTC</td>\n",
       "      <td>2013-04-30</td>\n",
       "      <td>146.929993</td>\n",
       "      <td>134.050003</td>\n",
       "      <td>144.000000</td>\n",
       "      <td>139.000000</td>\n",
       "      <td>0.0</td>\n",
       "      <td>1.542813e+09</td>\n",
       "      <td>NaN</td>\n",
       "    </tr>\n",
       "    <tr>\n",
       "      <th>2</th>\n",
       "      <td>3.0</td>\n",
       "      <td>Bitcoin</td>\n",
       "      <td>BTC</td>\n",
       "      <td>2013-05-01</td>\n",
       "      <td>139.889999</td>\n",
       "      <td>107.720001</td>\n",
       "      <td>139.000000</td>\n",
       "      <td>116.989998</td>\n",
       "      <td>0.0</td>\n",
       "      <td>1.298955e+09</td>\n",
       "      <td>NaN</td>\n",
       "    </tr>\n",
       "    <tr>\n",
       "      <th>3</th>\n",
       "      <td>4.0</td>\n",
       "      <td>Bitcoin</td>\n",
       "      <td>BTC</td>\n",
       "      <td>2013-05-02</td>\n",
       "      <td>125.599998</td>\n",
       "      <td>92.281898</td>\n",
       "      <td>116.379997</td>\n",
       "      <td>105.209999</td>\n",
       "      <td>0.0</td>\n",
       "      <td>1.168517e+09</td>\n",
       "      <td>NaN</td>\n",
       "    </tr>\n",
       "    <tr>\n",
       "      <th>4</th>\n",
       "      <td>5.0</td>\n",
       "      <td>Bitcoin</td>\n",
       "      <td>BTC</td>\n",
       "      <td>2013-05-03</td>\n",
       "      <td>108.127998</td>\n",
       "      <td>79.099998</td>\n",
       "      <td>106.250000</td>\n",
       "      <td>97.750000</td>\n",
       "      <td>0.0</td>\n",
       "      <td>1.085995e+09</td>\n",
       "      <td>NaN</td>\n",
       "    </tr>\n",
       "  </tbody>\n",
       "</table>\n",
       "</div>"
      ],
      "text/plain": [
       "   SNo     Name Symbol        Date        High         Low        Open  \\\n",
       "0  1.0  Bitcoin    BTC  2013-04-29  147.488007  134.000000  134.444000   \n",
       "1  2.0  Bitcoin    BTC  2013-04-30  146.929993  134.050003  144.000000   \n",
       "2  3.0  Bitcoin    BTC  2013-05-01  139.889999  107.720001  139.000000   \n",
       "3  4.0  Bitcoin    BTC  2013-05-02  125.599998   92.281898  116.379997   \n",
       "4  5.0  Bitcoin    BTC  2013-05-03  108.127998   79.099998  106.250000   \n",
       "\n",
       "        Close  Volume     Marketcap  Adj Close  \n",
       "0  144.539993     0.0  1.603769e+09        NaN  \n",
       "1  139.000000     0.0  1.542813e+09        NaN  \n",
       "2  116.989998     0.0  1.298955e+09        NaN  \n",
       "3  105.209999     0.0  1.168517e+09        NaN  \n",
       "4   97.750000     0.0  1.085995e+09        NaN  "
      ]
     },
     "execution_count": 10,
     "metadata": {},
     "output_type": "execute_result"
    }
   ],
   "source": [
    "bitcoin_df.head()"
   ]
  },
  {
   "cell_type": "markdown",
   "metadata": {},
   "source": [
    "### Visualizing the historical Bitcoin price"
   ]
  },
  {
   "cell_type": "code",
   "execution_count": 11,
   "metadata": {},
   "outputs": [
    {
     "data": {
      "text/plain": [
       "Text(0, 0.5, 'Price in USD')"
      ]
     },
     "execution_count": 11,
     "metadata": {},
     "output_type": "execute_result"
    },
    {
     "data": {
      "image/png": "[encoded data removed]",
      "text/plain": [
       "<Figure size 1080x720 with 1 Axes>"
      ]
     },
     "metadata": {
      "needs_background": "light"
     },
     "output_type": "display_data"
    }
   ],
   "source": [
    "fig1,ax = plt.subplots(figsize = (15,10))\n",
    "fig1.suptitle('Bitcoin Price History')\n",
    "bitcoin_df.plot(x='Date',y='Close', ax=ax)\n",
    "ax.set_xlabel('Date')\n",
    "ax.set_ylabel('Price in USD')"
   ]
  },
  {
   "cell_type": "markdown",
   "metadata": {},
   "source": [
    "### Split data into training and test set"
   ]
  },
  {
   "cell_type": "code",
   "execution_count": 12,
   "metadata": {},
   "outputs": [],
   "source": [
    "closing_prices_btc = bitcoin_df['Close'].values    #extracting the values of the closing prices into a series\n",
    "training_data_len = math.ceil(len(closing_prices_btc)*0.8) #calculating the size of the training data (80% of data to be used)"
   ]
  },
  {
   "cell_type": "code",
   "execution_count": 13,
   "metadata": {},
   "outputs": [
    {
     "data": {
      "text/plain": [
       "2798"
      ]
     },
     "execution_count": 13,
     "metadata": {},
     "output_type": "execute_result"
    }
   ],
   "source": [
    "training_data_len       #original dataframe had 3497 rows, 80% of the data would consist of 2798 rows (rounded up)"
   ]
  },
  {
   "cell_type": "code",
   "execution_count": 14,
   "metadata": {},
   "outputs": [],
   "source": [
    "closing_prices_btc = closing_prices_btc.reshape(-1,1)"
   ]
  },
  {
   "cell_type": "code",
   "execution_count": 15,
   "metadata": {},
   "outputs": [],
   "source": [
    "scaler = MinMaxScaler()\n",
    "scaled_prices_btc = scaler.fit_transform(closing_prices_btc.reshape(-1,1))     #normalizing the closing price data as data does not follow a Gaussian distribution\n",
    "training_data = scaled_prices_btc[0:training_data_len,:]                       #80% of the scaled closing price data to be used as the training data\n",
    "\n",
    "X_train = []\n",
    "Y_train = []\n",
    "\n",
    "for i in range(60,len(training_data)):\n",
    "    X_train.append(training_data[i-60:i,0])     #x_train data consists of the prices of the past 60 days\n",
    "    Y_train.append(training_data[i,0])          #y_train data (label data) consists of the prices of the next corresponding 60 days\n",
    "\n",
    "\n",
    "X_train, Y_train = np.array(X_train), np.array(Y_train)         #converting the data into numpy array for Tensorflow to accept the data\n"
   ]
  },
  {
   "cell_type": "code",
   "execution_count": 16,
   "metadata": {},
   "outputs": [
    {
     "data": {
      "text/plain": [
       "(2738, 60)"
      ]
     },
     "execution_count": 16,
     "metadata": {},
     "output_type": "execute_result"
    }
   ],
   "source": [
    "X_train.shape               #x_train should have (2798-60) rows of data since it contains the previous 60 days of data."
   ]
  },
  {
   "cell_type": "code",
   "execution_count": 17,
   "metadata": {},
   "outputs": [
    {
     "data": {
      "text/plain": [
       "(2738,)"
      ]
     },
     "execution_count": 17,
     "metadata": {},
     "output_type": "execute_result"
    }
   ],
   "source": [
    "Y_train.shape"
   ]
  },
  {
   "cell_type": "code",
   "execution_count": 18,
   "metadata": {},
   "outputs": [],
   "source": [
    "X_train = np.reshape(X_train, (2738,60,1))      #reshaping X_train data into a 3D array to train LSTM model."
   ]
  },
  {
   "cell_type": "code",
   "execution_count": 19,
   "metadata": {},
   "outputs": [],
   "source": [
    "test_data = scaled_prices_btc[training_data_len-60:,:]\n",
    "\n",
    "X_test = []\n",
    "Y_test = closing_prices_btc[training_data_len:]\n",
    "\n",
    "for i in range(60, len(test_data)):\n",
    "    X_test.append(test_data[i-60:i,0])     \n",
    "    \n",
    "\n",
    "X_test, Y_test = np.array(X_test), np.array(Y_test)\n",
    "\n",
    "#Doing the same for the test set"
   ]
  },
  {
   "cell_type": "code",
   "execution_count": 20,
   "metadata": {},
   "outputs": [
    {
     "data": {
      "text/plain": [
       "(699, 60)"
      ]
     },
     "execution_count": 20,
     "metadata": {},
     "output_type": "execute_result"
    }
   ],
   "source": [
    "X_test.shape"
   ]
  },
  {
   "cell_type": "code",
   "execution_count": 21,
   "metadata": {},
   "outputs": [
    {
     "data": {
      "text/plain": [
       "(699, 1)"
      ]
     },
     "execution_count": 21,
     "metadata": {},
     "output_type": "execute_result"
    }
   ],
   "source": [
    "Y_test.shape"
   ]
  },
  {
   "cell_type": "code",
   "execution_count": 22,
   "metadata": {},
   "outputs": [],
   "source": [
    "X_test = np.reshape(X_test, (699,60,1))"
   ]
  },
  {
   "cell_type": "markdown",
   "metadata": {},
   "source": [
    "### Setting up LSTM network"
   ]
  },
  {
   "cell_type": "code",
   "execution_count": 23,
   "metadata": {},
   "outputs": [],
   "source": [
    "import tensorflow as tf\n",
    "from tensorflow import keras\n",
    "from tensorflow.keras import layers\n",
    "from keras.layers import LSTM\n",
    "from keras.models import Sequential\n",
    "\n",
    "#importing the necessary libraries"
   ]
  },
  {
   "cell_type": "code",
   "execution_count": 24,
   "metadata": {},
   "outputs": [
    {
     "name": "stdout",
     "output_type": "stream",
     "text": [
      "Model: \"sequential\"\n",
      "_________________________________________________________________\n",
      " Layer (type)                Output Shape              Param #   \n",
      "=================================================================\n",
      " lstm (LSTM)                 (None, 60, 150)           91200     \n",
      "                                                                 \n",
      " lstm_1 (LSTM)               (None, 150)               180600    \n",
      "                                                                 \n",
      " dense (Dense)               (None, 30)                4530      \n",
      "                                                                 \n",
      " dense_1 (Dense)             (None, 1)                 31        \n",
      "                                                                 \n",
      "=================================================================\n",
      "Total params: 276,361\n",
      "Trainable params: 276,361\n",
      "Non-trainable params: 0\n",
      "_________________________________________________________________\n"
     ]
    }
   ],
   "source": [
    "model = keras.Sequential()      #sequential model is used as we are working with sequential data and we are trying to predict future sequential data\n",
    "model.add(LSTM(150, return_sequences = True, input_shape = (60,1)))\n",
    "model.add(LSTM(150, return_sequences = False))\n",
    "model.add(layers.Dense(30))\n",
    "model.add(layers.Dense(1))\n",
    "model.summary()\n"
   ]
  },
  {
   "cell_type": "markdown",
   "metadata": {},
   "source": [
    "### Training the model"
   ]
  },
  {
   "cell_type": "code",
   "execution_count": 41,
   "metadata": {},
   "outputs": [
    {
     "name": "stdout",
     "output_type": "stream",
     "text": [
      "Epoch 1/3\n",
      "2738/2738 [==============================] - 97s 34ms/step - loss: 6.5279e-05\n",
      "Epoch 2/3\n",
      "2738/2738 [==============================] - 102s 37ms/step - loss: 5.4878e-05\n",
      "Epoch 3/3\n",
      "2738/2738 [==============================] - 95s 35ms/step - loss: 5.0851e-05\n"
     ]
    },
    {
     "data": {
      "text/plain": [
       "<keras.callbacks.History at 0x1662bd4f5b0>"
      ]
     },
     "execution_count": 41,
     "metadata": {},
     "output_type": "execute_result"
    }
   ],
   "source": [
    "model.compile(optimizer = 'adam', loss = 'mean_squared_error')\n",
    "model.fit(X_train, Y_train, batch_size =1, epochs=3)               #training the model by looking at 1 data point at a time and running the model through the data 3 times"
   ]
  },
  {
   "cell_type": "markdown",
   "metadata": {},
   "source": [
    "### Predicting BTC prices and comparing with Y_test data using RMSE\n"
   ]
  },
  {
   "cell_type": "code",
   "execution_count": 42,
   "metadata": {},
   "outputs": [
    {
     "name": "stdout",
     "output_type": "stream",
     "text": [
      "22/22 [==============================] - 3s 56ms/step\n"
     ]
    },
    {
     "data": {
      "text/plain": [
       "1703.7551709170973"
      ]
     },
     "execution_count": 42,
     "metadata": {},
     "output_type": "execute_result"
    }
   ],
   "source": [
    "from sklearn.metrics import mean_squared_error\n",
    "\n",
    "predicted_price = model.predict(X_test)\n",
    "predicted_price_unscaled = scaler.inverse_transform(predicted_price)\n",
    "RMSE = np.sqrt(mean_squared_error(Y_test, predicted_price_unscaled))\n",
    "RMSE"
   ]
  },
  {
   "cell_type": "code",
   "execution_count": 27,
   "metadata": {},
   "outputs": [
    {
     "data": {
      "text/plain": [
       "11020.740580776035"
      ]
     },
     "execution_count": 27,
     "metadata": {},
     "output_type": "execute_result"
    }
   ],
   "source": [
    "bitcoin_df['Close'].mean()"
   ]
  },
  {
   "cell_type": "markdown",
   "metadata": {},
   "source": [
    "### Visualizing the predicted prices vs actual prices"
   ]
  },
  {
   "cell_type": "code",
   "execution_count": 43,
   "metadata": {},
   "outputs": [
    {
     "name": "stderr",
     "output_type": "stream",
     "text": [
      "C:\\Users\\USER\\AppData\\Local\\Temp\\ipykernel_17936\\1633001857.py:4: SettingWithCopyWarning: \n",
      "A value is trying to be set on a copy of a slice from a DataFrame.\n",
      "Try using .loc[row_indexer,col_indexer] = value instead\n",
      "\n",
      "See the caveats in the documentation: https://pandas.pydata.org/pandas-docs/stable/user_guide/indexing.html#returning-a-view-versus-a-copy\n",
      "  test['Predictions'] = predicted_price_unscaled\n"
     ]
    },
    {
     "data": {
      "image/png": "[encoded data removed]",
      "text/plain": [
       "<Figure size 1440x720 with 1 Axes>"
      ]
     },
     "metadata": {
      "needs_background": "light"
     },
     "output_type": "display_data"
    }
   ],
   "source": [
    "bitcoin_prices = bitcoin_df[['Date','Close']]\n",
    "train = bitcoin_prices[:training_data_len]\n",
    "test = bitcoin_prices[training_data_len:]\n",
    "test['Predictions'] = predicted_price_unscaled\n",
    "fig,ax = plt.subplots(figsize=(20,10))\n",
    "ax.set_title('Predictions on BTC prices')\n",
    "ax.set_xlabel('Date')\n",
    "ax.set_ylabel('Price in USD')\n",
    "train.plot(x='Date',y='Close',ax=ax, color = 'b')\n",
    "test.plot(x='Date',y = 'Close',ax=ax, color = 'g')\n",
    "test.plot(x='Date',y='Predictions',ax=ax, color = 'r')\n",
    "ax.legend(['Train','Test','Predictions'],loc = 4)\n",
    "plt.show()\n"
   ]
  },
  {
   "cell_type": "code",
   "execution_count": 44,
   "metadata": {},
   "outputs": [
    {
     "data": {
      "text/html": [
       "<div>\n",
       "<style scoped>\n",
       "    .dataframe tbody tr th:only-of-type {\n",
       "        vertical-align: middle;\n",
       "    }\n",
       "\n",
       "    .dataframe tbody tr th {\n",
       "        vertical-align: top;\n",
       "    }\n",
       "\n",
       "    .dataframe thead th {\n",
       "        text-align: right;\n",
       "    }\n",
       "</style>\n",
       "<table border=\"1\" class=\"dataframe\">\n",
       "  <thead>\n",
       "    <tr style=\"text-align: right;\">\n",
       "      <th></th>\n",
       "      <th>Date</th>\n",
       "      <th>Close</th>\n",
       "      <th>Predictions</th>\n",
       "    </tr>\n",
       "  </thead>\n",
       "  <tbody>\n",
       "    <tr>\n",
       "      <th>2798</th>\n",
       "      <td>2020-12-26</td>\n",
       "      <td>26437.037509</td>\n",
       "      <td>24749.839844</td>\n",
       "    </tr>\n",
       "    <tr>\n",
       "      <th>2799</th>\n",
       "      <td>2020-12-27</td>\n",
       "      <td>26272.294567</td>\n",
       "      <td>26460.271484</td>\n",
       "    </tr>\n",
       "    <tr>\n",
       "      <th>2800</th>\n",
       "      <td>2020-12-28</td>\n",
       "      <td>27084.807886</td>\n",
       "      <td>26107.644531</td>\n",
       "    </tr>\n",
       "    <tr>\n",
       "      <th>2801</th>\n",
       "      <td>2020-12-29</td>\n",
       "      <td>27362.436557</td>\n",
       "      <td>27073.417969</td>\n",
       "    </tr>\n",
       "    <tr>\n",
       "      <th>2802</th>\n",
       "      <td>2020-12-30</td>\n",
       "      <td>28840.953420</td>\n",
       "      <td>27277.058594</td>\n",
       "    </tr>\n",
       "    <tr>\n",
       "      <th>...</th>\n",
       "      <td>...</td>\n",
       "      <td>...</td>\n",
       "      <td>...</td>\n",
       "    </tr>\n",
       "    <tr>\n",
       "      <th>501</th>\n",
       "      <td>2022-11-20</td>\n",
       "      <td>16291.832031</td>\n",
       "      <td>16868.865234</td>\n",
       "    </tr>\n",
       "    <tr>\n",
       "      <th>502</th>\n",
       "      <td>2022-11-21</td>\n",
       "      <td>15787.284180</td>\n",
       "      <td>16445.240234</td>\n",
       "    </tr>\n",
       "    <tr>\n",
       "      <th>503</th>\n",
       "      <td>2022-11-22</td>\n",
       "      <td>16189.769531</td>\n",
       "      <td>15984.750000</td>\n",
       "    </tr>\n",
       "    <tr>\n",
       "      <th>504</th>\n",
       "      <td>2022-11-23</td>\n",
       "      <td>16610.707031</td>\n",
       "      <td>16410.593750</td>\n",
       "    </tr>\n",
       "    <tr>\n",
       "      <th>505</th>\n",
       "      <td>2022-11-24</td>\n",
       "      <td>16548.230469</td>\n",
       "      <td>16759.990234</td>\n",
       "    </tr>\n",
       "  </tbody>\n",
       "</table>\n",
       "<p>699 rows × 3 columns</p>\n",
       "</div>"
      ],
      "text/plain": [
       "            Date         Close   Predictions\n",
       "2798  2020-12-26  26437.037509  24749.839844\n",
       "2799  2020-12-27  26272.294567  26460.271484\n",
       "2800  2020-12-28  27084.807886  26107.644531\n",
       "2801  2020-12-29  27362.436557  27073.417969\n",
       "2802  2020-12-30  28840.953420  27277.058594\n",
       "...          ...           ...           ...\n",
       "501   2022-11-20  16291.832031  16868.865234\n",
       "502   2022-11-21  15787.284180  16445.240234\n",
       "503   2022-11-22  16189.769531  15984.750000\n",
       "504   2022-11-23  16610.707031  16410.593750\n",
       "505   2022-11-24  16548.230469  16759.990234\n",
       "\n",
       "[699 rows x 3 columns]"
      ]
     },
     "execution_count": 44,
     "metadata": {},
     "output_type": "execute_result"
    }
   ],
   "source": [
    "test   #predicted price vs actual price"
   ]
  },
  {
   "cell_type": "markdown",
   "metadata": {},
   "source": [
    "### Predicting prices beyond the present day (24 Nov 2022)"
   ]
  },
  {
   "cell_type": "code",
   "execution_count": 45,
   "metadata": {},
   "outputs": [
    {
     "data": {
      "text/plain": [
       "699"
      ]
     },
     "execution_count": 45,
     "metadata": {},
     "output_type": "execute_result"
    }
   ],
   "source": [
    "len(Y_test)"
   ]
  },
  {
   "cell_type": "code",
   "execution_count": 46,
   "metadata": {},
   "outputs": [],
   "source": [
    "last_60days = Y_test[639:]\n",
    "last_60days = last_60days.reshape(1,-1)\n",
    "\n",
    "#extracting the most recent 60 days worth of data starting from 24 Nov 2022 (present day)"
   ]
  },
  {
   "cell_type": "code",
   "execution_count": 47,
   "metadata": {},
   "outputs": [],
   "source": [
    "last_60days_list = list(last_60days)\n",
    "\n",
    "\n",
    "#compiling the most recent 60 days data into a list"
   ]
  },
  {
   "cell_type": "code",
   "execution_count": 48,
   "metadata": {},
   "outputs": [
    {
     "data": {
      "text/plain": [
       "(1, 60)"
      ]
     },
     "execution_count": 48,
     "metadata": {},
     "output_type": "execute_result"
    }
   ],
   "source": [
    "last_60days.shape"
   ]
  },
  {
   "cell_type": "code",
   "execution_count": 49,
   "metadata": {},
   "outputs": [],
   "source": [
    "last_60days_list = last_60days_list[0].tolist()"
   ]
  },
  {
   "cell_type": "code",
   "execution_count": 35,
   "metadata": {},
   "outputs": [
    {
     "data": {
      "text/plain": [
       "[19222.671875,\n",
       " 19110.546875,\n",
       " 19426.720703,\n",
       " 19573.050781,\n",
       " 19431.789063,\n",
       " 19312.095703,\n",
       " 19044.107422,\n",
       " 19623.580078,\n",
       " 20336.84375,\n",
       " 20160.716797,\n",
       " 19955.443359,\n",
       " 19546.849609,\n",
       " 19416.568359,\n",
       " 19446.425781,\n",
       " 19141.484375,\n",
       " 19051.417969,\n",
       " 19157.445313,\n",
       " 19382.904297,\n",
       " 19185.65625,\n",
       " 19067.634766,\n",
       " 19268.09375,\n",
       " 19550.757813,\n",
       " 19334.416016,\n",
       " 19139.535156,\n",
       " 19053.740234,\n",
       " 19172.46875,\n",
       " 19208.189453,\n",
       " 19567.007813,\n",
       " 19345.572266,\n",
       " 20095.857422,\n",
       " 20770.441406,\n",
       " 20285.835938,\n",
       " 20595.351563,\n",
       " 20818.476563,\n",
       " 20635.603516,\n",
       " 20495.773438,\n",
       " 20485.273438,\n",
       " 20159.503906,\n",
       " 20209.988281,\n",
       " 21147.230469,\n",
       " 21282.691406,\n",
       " 20926.486328,\n",
       " 20602.816406,\n",
       " 18541.271484,\n",
       " 15880.780273,\n",
       " 17586.771484,\n",
       " 17034.292969,\n",
       " 16799.185547,\n",
       " 16353.365234,\n",
       " 16618.199219,\n",
       " 16884.613281,\n",
       " 16669.439453,\n",
       " 16687.517578,\n",
       " 16697.777344,\n",
       " 16711.546875,\n",
       " 16291.832031,\n",
       " 15787.28418,\n",
       " 16189.769531,\n",
       " 16610.707031,\n",
       " 16548.230469]"
      ]
     },
     "execution_count": 35,
     "metadata": {},
     "output_type": "execute_result"
    }
   ],
   "source": [
    "last_60days_list"
   ]
  },
  {
   "cell_type": "code",
   "execution_count": 55,
   "metadata": {},
   "outputs": [
    {
     "name": "stdout",
     "output_type": "stream",
     "text": [
      "[[0.5800566673278809], [0.5800021290779114], [0.5799489617347717], [0.5798971056938171], [0.5798465609550476], [0.5797971487045288], [0.5797490477561951], [0.5797020792961121], [0.5796563029289246], [0.579611599445343], [0.5795679688453674], [0.5795254111289978], [0.5794839859008789], [0.5794435739517212], [0.5794041156768799], [0.5793656706809998], [0.5793281197547913], [0.5792914628982544], [0.5792558193206787], [0.5792210102081299], [0.5791870951652527], [0.5791539549827576], [0.5791216492652893], [0.5790901780128479], [0.579059362411499], [0.5790293216705322], [0.5790000557899475], [0.5789715647697449], [0.5789437294006348], [0.578916609287262], [0.5788900852203369], [0.5788642168045044], [0.5788390040397644], [0.5788145065307617], [0.5787904858589172], [0.5787670612335205], [0.5787442326545715], [0.5787219405174255], [0.5787002444267273], [0.578679084777832], [0.578658401966095], [0.5786381959915161], [0.5786185264587402], [0.5785993337631226], [0.5785806179046631], [0.5785622596740723], [0.5785443782806396], [0.57852703332901], [0.5785101056098938], [0.5784935355186462], [0.5784773826599121], [0.5784615874290466], [0.5784462690353394], [0.5784313082695007], [0.578416645526886], [0.5784023404121399], [0.5783884525299072], [0.5783748626708984], [0.5783615708351135], [0.578348696231842], [0.5783361196517944], [0.5783238410949707], [0.5783118605613708], [0.5783001780509949], [0.5782887935638428], [0.5782776474952698], [0.5782667994499207], [0.5782561898231506], [0.5782458782196045], [0.5782358646392822], [0.5782259702682495], [0.5782163143157959], [0.5782069563865662], [0.5781978368759155], [0.5781890153884888], [0.5781803727149963], [0.5781719088554382], [0.5781636834144592], [0.5781555771827698], [0.5781476497650146], [0.5781399607658386], [0.5781324505805969], [0.5781251788139343], [0.5781180262565613], [0.5781111121177673], [0.5781043767929077], [0.5780977606773376], [0.5780912637710571], [0.5780849456787109], [0.5780788064002991], [0.5780727863311768], [0.5780669450759888], [0.5780612826347351], [0.5780556797981262], [0.5780501961708069], [0.5780449509620667], [0.578039824962616], [0.5780347585678101], [0.5780298709869385], [0.5780251026153564], [0.5780203938484192], [0.5780158042907715], [0.5780113339424133], [0.5780069828033447], [0.5780026912689209], [0.5779985189437866], [0.5779944658279419], [0.5779904723167419], [0.5779866576194763], [0.5779829025268555], [0.5779792666435242], [0.5779758095741272], [0.5779723525047302], [0.577968955039978], [0.5779656767845154], [0.5779625177383423], [0.5779593586921692], [0.5779563784599304], [0.5779533982276917], [0.5779505372047424], [0.5779476761817932], [0.5779448747634888], [0.5779421925544739], [0.5779396295547485], [0.5779370665550232], [0.5779345631599426], [0.5779321193695068], [0.5779297947883606], [0.5779274702072144], [0.5779251456260681], [0.5779229998588562], [0.5779207944869995], [0.5779187083244324], [0.5779166221618652], [0.5779146552085876], [0.5779126286506653], [0.5779107213020325], [0.5779088735580444], [0.5779070258140564], [0.5779052376747131], [0.5779034495353699], [0.5779017806053162], [0.5779001116752625], [0.5778985619544983], [0.5778970122337341], [0.57789546251297], [0.5778939723968506], [0.577892541885376], [0.5778911709785461], [0.5778898000717163], [0.5778884291648865], [0.5778871178627014], [0.5778858661651611], [0.5778846144676208], [0.5778833627700806], [0.5778821706771851], [0.5778810381889343], [0.5778799057006836], [0.5778788328170776], [0.5778778195381165], [0.5778767466545105], [0.5778756737709045], [0.5778746604919434], [0.577873706817627], [0.5778726935386658], [0.5778717398643494], [0.5778708457946777], [0.5778698921203613], [0.5778689980506897], [0.5778681635856628], [0.577867329120636], [0.5778665542602539], [0.577865719795227], [0.5778648853302002], [0.5778641700744629], [0.5778634548187256], [0.5778627395629883], [0.5778621435165405], [0.5778614282608032], [0.5778607130050659], [0.5778600573539734], [0.5778594017028809], [0.5778588652610779], [0.5778582096099854], [0.5778576731681824], [0.5778570771217346], [0.5778564810752869]]\n"
     ]
    }
   ],
   "source": [
    "#creating a moving 60 days window whereby the predicted price for days after 24 Noc 2022 is used as the label data to predict the subsequent days ahead.\n",
    "\n",
    "\n",
    "predicted_output = []           #an empty list to store all the predicted prices past 24 Nov 2022\n",
    "back_days = 60\n",
    "i=0\n",
    "\n",
    "while (i<187):                  #we are trying to predict the prices each day for the next 187 days up till 1 June 2023\n",
    "\n",
    "    if len(last_60days_list)> 60:                                #this part runs after the price on 25 Nov 2022 is predicted and appended to last_60days_list\n",
    "        last_60days = np.array(last_60days_list[1:])             #taking the most recent 60 days data. In the first iteration of the loop, the predicted price of 25 Nov 2022 is taken as the 1st data point and 60 days is counted backwards from there\n",
    "        last_60days = last_60days.reshape(1,-1)\n",
    "        last_60days = last_60days.reshape((1,back_days,1))\n",
    "        future_predict = model.predict(last_60days,verbose=0)\n",
    "        last_60days_list.extend(future_predict[0].tolist())      #predicting future prices and appending it to the last_60days_list\n",
    "        last_60days_list = last_60days_list[1:]                  #moving the 60 days window 1 day forward for every iteration of the loop\n",
    "        predicted_output.extend(future_predict.tolist())         #appending the predictions to predicted_output list\n",
    "        i=i+1\n",
    "    else:\n",
    "        last_60days = last_60days.reshape((1,back_days,1))          #the else part of the while loop will run first, since len(last_60days_list) = 60. This part predicts the price on 25 Nov 2022, the first day after 24 Nov 2022 which is when the real world data ends\n",
    "        future_predict = model.predict(last_60days,verbose=0)\n",
    "        last_60days_list.extend(future_predict[0].tolist())         #appending the predicted price of 25 Nov 2022 to the last 60 days price data.\n",
    "        predicted_output.extend(future_predict.tolist())            #adding the predicted price of 25 Nov 2022 to the predicted_output list\n",
    "        i=i+1\n",
    "\n",
    "\n",
    "print(predicted_output)\n",
    "    "
   ]
  },
  {
   "cell_type": "code",
   "execution_count": 56,
   "metadata": {},
   "outputs": [],
   "source": [
    "predicted_output_unscaled = scaler.inverse_transform(predicted_output)"
   ]
  },
  {
   "cell_type": "code",
   "execution_count": 57,
   "metadata": {},
   "outputs": [],
   "source": [
    "btc_futures_df = pd.DataFrame({'Date': pd.date_range('2022-11-25','2023-05-30')})\n",
    "btc_futures_df['Predicted Price'] = predicted_output_unscaled\n",
    "\n",
    "#constructing a dataframe to store the predicted data from 25 Nov 2022 to 30 May 2023\n"
   ]
  },
  {
   "cell_type": "markdown",
   "metadata": {},
   "source": [
    "### Visualizing the predicted data outside of the timeframe of real world data"
   ]
  },
  {
   "cell_type": "code",
   "execution_count": 58,
   "metadata": {},
   "outputs": [
    {
     "data": {
      "text/plain": [
       "Text(0, 0.5, 'Price in USD')"
      ]
     },
     "execution_count": 58,
     "metadata": {},
     "output_type": "execute_result"
    },
    {
     "data": {
      "image/png": "[encoded data removed]",
      "text/plain": [
       "<Figure size 1440x720 with 1 Axes>"
      ]
     },
     "metadata": {},
     "output_type": "display_data"
    }
   ],
   "source": [
    "fig2,ax = plt.subplots(figsize = (20,10))\n",
    "bitcoin_df.plot(x='Date',y='Close', color = 'blue',ax=ax)\n",
    "btc_futures_df.plot(x='Date',y='Predicted Price',color='r', ax=ax)\n",
    "x=['2013','2014','2015','2016','2017','2018','2019','2020','2021','2022','2023']\n",
    "labels = ['2013','2014','2015','2016','2017','2018','2019','2020','2021','2022','2023']\n",
    "ax.set_xticks(x,labels)\n",
    "fig2.set_facecolor('White')\n",
    "ax.set_title('BTC Price Prediction till 1 June 2023')\n",
    "ax.set_ylabel('Price in USD')"
   ]
  },
  {
   "cell_type": "code",
   "execution_count": 54,
   "metadata": {},
   "outputs": [
    {
     "data": {
      "text/plain": [
       "array([[206357.79051281],\n",
       "       [ 76844.11130913],\n",
       "       [ 92032.40291195],\n",
       "       [ 92342.18265024],\n",
       "       [ 90933.00227289],\n",
       "       [ 89431.33616052],\n",
       "       [ 88126.38126825],\n",
       "       [ 87254.14760941],\n",
       "       [ 86703.51390331],\n",
       "       [ 86134.3331623 ],\n",
       "       [ 84944.85267259],\n",
       "       [ 82561.98112529],\n",
       "       [ 79006.32544291],\n",
       "       [ 74901.63729519],\n",
       "       [ 70922.67470945],\n",
       "       [ 67443.95904778],\n",
       "       [ 64563.72120048],\n",
       "       [ 62232.46351669],\n",
       "       [ 60348.01637572],\n",
       "       [ 58806.58880002],\n",
       "       [ 57522.50233943],\n",
       "       [ 56430.93088256],\n",
       "       [ 55484.5292002 ],\n",
       "       [ 54649.11200913],\n",
       "       [ 53900.05319208],\n",
       "       [ 53219.59426487],\n",
       "       [ 52594.89713891],\n",
       "       [ 52016.63599491],\n",
       "       [ 51477.91101404],\n",
       "       [ 50973.54431475],\n",
       "       [ 50499.52877193],\n",
       "       [ 50052.73029877],\n",
       "       [ 49630.59415184],\n",
       "       [ 49230.97997919],\n",
       "       [ 48852.0733095 ],\n",
       "       [ 48492.30911097],\n",
       "       [ 48150.30339662],\n",
       "       [ 47824.82103854],\n",
       "       [ 47514.74760533],\n",
       "       [ 47219.08533893],\n",
       "       [ 46936.92096887],\n",
       "       [ 46667.41364259],\n",
       "       [ 46409.80297189],\n",
       "       [ 46163.38489361],\n",
       "       [ 45927.50362323],\n",
       "       [ 45701.55970128],\n",
       "       [ 45484.99390044],\n",
       "       [ 45277.29929526],\n",
       "       [ 45077.99309957],\n",
       "       [ 44886.62873618],\n",
       "       [ 44702.78376721],\n",
       "       [ 44526.08403337],\n",
       "       [ 44356.16744505],\n",
       "       [ 44192.69202872],\n",
       "       [ 44035.35201982],\n",
       "       [ 43883.84165378],\n",
       "       [ 43737.89137499],\n",
       "       [ 43597.23162785],\n",
       "       [ 43461.6250425 ],\n",
       "       [ 43330.83827229],\n",
       "       [ 43204.65004023],\n",
       "       [ 43082.86320865],\n",
       "       [ 42965.28063986],\n",
       "       [ 42851.72531228],\n",
       "       [ 42742.0202043 ],\n",
       "       [ 42636.02048009],\n",
       "       [ 42533.55716448],\n",
       "       [ 42434.48944486],\n",
       "       [ 42338.66846214],\n",
       "       [ 42245.9735198 ],\n",
       "       [ 42156.26782842],\n",
       "       [ 42069.45080756],\n",
       "       [ 41985.40176066],\n",
       "       [ 41904.01206085],\n",
       "       [ 41825.18917412],\n",
       "       [ 41748.82849679],\n",
       "       [ 41674.84151807],\n",
       "       [ 41603.14375039],\n",
       "       [ 41533.64265972],\n",
       "       [ 41466.2537585 ],\n",
       "       [ 41400.91669845],\n",
       "       [ 41337.54296877],\n",
       "       [ 41276.07624442],\n",
       "       [ 41216.45617712],\n",
       "       [ 41158.60230251],\n",
       "       [ 41102.45427234],\n",
       "       [ 41047.95576153],\n",
       "       [ 40995.05446826],\n",
       "       [ 40943.69406749],\n",
       "       [ 40893.82225736],\n",
       "       [ 40845.39478249],\n",
       "       [ 40798.35934105],\n",
       "       [ 40752.67167763],\n",
       "       [ 40708.28753683],\n",
       "       [ 40665.15864005],\n",
       "       [ 40623.25682475],\n",
       "       [ 40582.53381232],\n",
       "       [ 40542.95741702],\n",
       "       [ 40504.49142987],\n",
       "       [ 40467.09561872],\n",
       "       [ 40430.73377458],\n",
       "       [ 40395.38175816],\n",
       "       [ 40361.00336049],\n",
       "       [ 40327.57444227],\n",
       "       [ 40295.06281774],\n",
       "       [ 40263.44032439],\n",
       "       [ 40232.68684612],\n",
       "       [ 40202.7701972 ],\n",
       "       [ 40173.66221509],\n",
       "       [ 40145.34680692],\n",
       "       [ 40117.79581017],\n",
       "       [ 40090.98106231],\n",
       "       [ 40064.89049368],\n",
       "       [ 40039.49996499],\n",
       "       [ 40014.78533692],\n",
       "       [ 39990.73051659],\n",
       "       [ 39967.31941115],\n",
       "       [ 39944.53190449],\n",
       "       [ 39922.34788053],\n",
       "       [ 39900.74722317],\n",
       "       [ 39879.71786277],\n",
       "       [ 39859.24370645],\n",
       "       [ 39839.30061491],\n",
       "       [ 39819.88456492],\n",
       "       [ 39800.97946362],\n",
       "       [ 39782.57324134],\n",
       "       [ 39764.63773557],\n",
       "       [ 39747.17696952],\n",
       "       [ 39730.17082711],\n",
       "       [ 39713.60321545],\n",
       "       [ 39697.4620649 ],\n",
       "       [ 39681.73932902],\n",
       "       [ 39666.42293816],\n",
       "       [ 39651.50484587],\n",
       "       [ 39636.97700573],\n",
       "       [ 39622.81930165],\n",
       "       [ 39609.02368718],\n",
       "       [ 39595.57809268],\n",
       "       [ 39582.47849493],\n",
       "       [ 39569.71684749],\n",
       "       [ 39557.2810807 ],\n",
       "       [ 39545.16314813],\n",
       "       [ 39533.35902657],\n",
       "       [ 39521.84859992],\n",
       "       [ 39510.6358914 ],\n",
       "       [ 39499.70480814],\n",
       "       [ 39489.05132691],\n",
       "       [ 39478.67142452],\n",
       "       [ 39468.55303129],\n",
       "       [ 39458.68810079],\n",
       "       [ 39449.07663303],\n",
       "       [ 39439.70253513],\n",
       "       [ 39430.56983031],\n",
       "       [ 39421.66644891],\n",
       "       [ 39412.98032128],\n",
       "       [ 39404.51949386],\n",
       "       [ 39396.27592021],\n",
       "       [ 39388.23753068],\n",
       "       [ 39380.40834849],\n",
       "       [ 39372.76423432],\n",
       "       [ 39365.31323461],\n",
       "       [ 39358.05132615],\n",
       "       [ 39350.96643928],\n",
       "       [ 39344.06259722],\n",
       "       [ 39337.33175354],\n",
       "       [ 39330.76988501],\n",
       "       [ 39324.37296841],\n",
       "       [ 39318.13295732],\n",
       "       [ 39312.04582851],\n",
       "       [ 39306.11158198],\n",
       "       [ 39300.33021774],\n",
       "       [ 39294.68966613],\n",
       "       [ 39289.18992715],\n",
       "       [ 39283.82295436],\n",
       "       [ 39278.58874776],\n",
       "       [ 39273.49133057],\n",
       "       [ 39268.51863315],\n",
       "       [ 39263.66663226],\n",
       "       [ 39258.93532791],\n",
       "       [ 39254.32069688],\n",
       "       [ 39249.82676239],\n",
       "       [ 39245.44145479],\n",
       "       [ 39241.16477408],\n",
       "       [ 39236.99672024],\n",
       "       [ 39232.92924686],\n",
       "       [ 39228.96637715],\n",
       "       [ 39225.09604145]])"
      ]
     },
     "execution_count": 54,
     "metadata": {},
     "output_type": "execute_result"
    }
   ],
   "source": [
    "predicted_output_unscaled"
   ]
  },
  {
   "cell_type": "code",
   "execution_count": null,
   "metadata": {},
   "outputs": [],
   "source": []
  }
 ],
 "metadata": {
  "kernelspec": {
   "display_name": "Python 3.10.4 ('DS102')",
   "language": "python",
   "name": "python3"
  },
  "language_info": {
   "codemirror_mode": {
    "name": "ipython",
    "version": 3
   },
   "file_extension": ".py",
   "mimetype": "text/x-python",
   "name": "python",
   "nbconvert_exporter": "python",
   "pygments_lexer": "ipython3",
   "version": "3.10.4"
  },
  "orig_nbformat": 4,
  "vscode": {
   "interpreter": {
    "hash": "9678ed7ea4b269329afd329694b38e4e0d862bc6ec83d46e03da15913322d4f3"
   }
  }
 },
 "nbformat": 4,
 "nbformat_minor": 2
}
