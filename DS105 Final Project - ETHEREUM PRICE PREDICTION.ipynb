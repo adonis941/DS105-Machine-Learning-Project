{
 "cells": [
  {
   "cell_type": "code",
   "execution_count": 3,
   "metadata": {},
   "outputs": [],
   "source": [
    "import math\n",
    "import numpy as np\n",
    "import pandas as pd\n",
    "import matplotlib.pyplot as plt\n",
    "from sklearn.preprocessing import MinMaxScaler\n",
    "\n",
    "%matplotlib inline\n"
   ]
  },
  {
   "cell_type": "markdown",
   "metadata": {},
   "source": [
    "### Importing the Ethereum dataset"
   ]
  },
  {
   "cell_type": "code",
   "execution_count": 4,
   "metadata": {},
   "outputs": [
    {
     "data": {
      "text/html": [
       "<div>\n",
       "<style scoped>\n",
       "    .dataframe tbody tr th:only-of-type {\n",
       "        vertical-align: middle;\n",
       "    }\n",
       "\n",
       "    .dataframe tbody tr th {\n",
       "        vertical-align: top;\n",
       "    }\n",
       "\n",
       "    .dataframe thead th {\n",
       "        text-align: right;\n",
       "    }\n",
       "</style>\n",
       "<table border=\"1\" class=\"dataframe\">\n",
       "  <thead>\n",
       "    <tr style=\"text-align: right;\">\n",
       "      <th></th>\n",
       "      <th>SNo</th>\n",
       "      <th>Name</th>\n",
       "      <th>Symbol</th>\n",
       "      <th>Date</th>\n",
       "      <th>High</th>\n",
       "      <th>Low</th>\n",
       "      <th>Open</th>\n",
       "      <th>Close</th>\n",
       "      <th>Volume</th>\n",
       "      <th>Marketcap</th>\n",
       "    </tr>\n",
       "  </thead>\n",
       "  <tbody>\n",
       "    <tr>\n",
       "      <th>0</th>\n",
       "      <td>1</td>\n",
       "      <td>Ethereum</td>\n",
       "      <td>ETH</td>\n",
       "      <td>2015-08-08 23:59:59</td>\n",
       "      <td>2.798810</td>\n",
       "      <td>0.714725</td>\n",
       "      <td>2.793760</td>\n",
       "      <td>0.753325</td>\n",
       "      <td>6.741880e+05</td>\n",
       "      <td>4.548689e+07</td>\n",
       "    </tr>\n",
       "    <tr>\n",
       "      <th>1</th>\n",
       "      <td>2</td>\n",
       "      <td>Ethereum</td>\n",
       "      <td>ETH</td>\n",
       "      <td>2015-08-09 23:59:59</td>\n",
       "      <td>0.879810</td>\n",
       "      <td>0.629191</td>\n",
       "      <td>0.706136</td>\n",
       "      <td>0.701897</td>\n",
       "      <td>5.321700e+05</td>\n",
       "      <td>4.239957e+07</td>\n",
       "    </tr>\n",
       "    <tr>\n",
       "      <th>2</th>\n",
       "      <td>3</td>\n",
       "      <td>Ethereum</td>\n",
       "      <td>ETH</td>\n",
       "      <td>2015-08-10 23:59:59</td>\n",
       "      <td>0.729854</td>\n",
       "      <td>0.636546</td>\n",
       "      <td>0.713989</td>\n",
       "      <td>0.708448</td>\n",
       "      <td>4.052830e+05</td>\n",
       "      <td>4.281836e+07</td>\n",
       "    </tr>\n",
       "    <tr>\n",
       "      <th>3</th>\n",
       "      <td>4</td>\n",
       "      <td>Ethereum</td>\n",
       "      <td>ETH</td>\n",
       "      <td>2015-08-11 23:59:59</td>\n",
       "      <td>1.131410</td>\n",
       "      <td>0.663235</td>\n",
       "      <td>0.708087</td>\n",
       "      <td>1.067860</td>\n",
       "      <td>1.463100e+06</td>\n",
       "      <td>6.456929e+07</td>\n",
       "    </tr>\n",
       "    <tr>\n",
       "      <th>4</th>\n",
       "      <td>5</td>\n",
       "      <td>Ethereum</td>\n",
       "      <td>ETH</td>\n",
       "      <td>2015-08-12 23:59:59</td>\n",
       "      <td>1.289940</td>\n",
       "      <td>0.883608</td>\n",
       "      <td>1.058750</td>\n",
       "      <td>1.217440</td>\n",
       "      <td>2.150620e+06</td>\n",
       "      <td>7.364501e+07</td>\n",
       "    </tr>\n",
       "    <tr>\n",
       "      <th>...</th>\n",
       "      <td>...</td>\n",
       "      <td>...</td>\n",
       "      <td>...</td>\n",
       "      <td>...</td>\n",
       "      <td>...</td>\n",
       "      <td>...</td>\n",
       "      <td>...</td>\n",
       "      <td>...</td>\n",
       "      <td>...</td>\n",
       "      <td>...</td>\n",
       "    </tr>\n",
       "    <tr>\n",
       "      <th>2155</th>\n",
       "      <td>2156</td>\n",
       "      <td>Ethereum</td>\n",
       "      <td>ETH</td>\n",
       "      <td>2021-07-02 23:59:59</td>\n",
       "      <td>2155.596496</td>\n",
       "      <td>2021.824808</td>\n",
       "      <td>2109.892677</td>\n",
       "      <td>2150.040364</td>\n",
       "      <td>3.179621e+10</td>\n",
       "      <td>2.505527e+11</td>\n",
       "    </tr>\n",
       "    <tr>\n",
       "      <th>2156</th>\n",
       "      <td>2157</td>\n",
       "      <td>Ethereum</td>\n",
       "      <td>ETH</td>\n",
       "      <td>2021-07-03 23:59:59</td>\n",
       "      <td>2237.567155</td>\n",
       "      <td>2117.590013</td>\n",
       "      <td>2150.835025</td>\n",
       "      <td>2226.114282</td>\n",
       "      <td>1.743336e+10</td>\n",
       "      <td>2.594475e+11</td>\n",
       "    </tr>\n",
       "    <tr>\n",
       "      <th>2157</th>\n",
       "      <td>2158</td>\n",
       "      <td>Ethereum</td>\n",
       "      <td>ETH</td>\n",
       "      <td>2021-07-04 23:59:59</td>\n",
       "      <td>2384.286857</td>\n",
       "      <td>2190.837703</td>\n",
       "      <td>2226.550382</td>\n",
       "      <td>2321.724112</td>\n",
       "      <td>1.878711e+10</td>\n",
       "      <td>2.706217e+11</td>\n",
       "    </tr>\n",
       "    <tr>\n",
       "      <th>2158</th>\n",
       "      <td>2159</td>\n",
       "      <td>Ethereum</td>\n",
       "      <td>ETH</td>\n",
       "      <td>2021-07-05 23:59:59</td>\n",
       "      <td>2321.922836</td>\n",
       "      <td>2163.041394</td>\n",
       "      <td>2321.922836</td>\n",
       "      <td>2198.582464</td>\n",
       "      <td>2.010379e+10</td>\n",
       "      <td>2.562978e+11</td>\n",
       "    </tr>\n",
       "    <tr>\n",
       "      <th>2159</th>\n",
       "      <td>2160</td>\n",
       "      <td>Ethereum</td>\n",
       "      <td>ETH</td>\n",
       "      <td>2021-07-06 23:59:59</td>\n",
       "      <td>2346.294874</td>\n",
       "      <td>2197.919385</td>\n",
       "      <td>2197.919385</td>\n",
       "      <td>2324.679449</td>\n",
       "      <td>2.089186e+10</td>\n",
       "      <td>2.710286e+11</td>\n",
       "    </tr>\n",
       "  </tbody>\n",
       "</table>\n",
       "<p>2160 rows × 10 columns</p>\n",
       "</div>"
      ],
      "text/plain": [
       "       SNo      Name Symbol                 Date         High          Low  \\\n",
       "0        1  Ethereum    ETH  2015-08-08 23:59:59     2.798810     0.714725   \n",
       "1        2  Ethereum    ETH  2015-08-09 23:59:59     0.879810     0.629191   \n",
       "2        3  Ethereum    ETH  2015-08-10 23:59:59     0.729854     0.636546   \n",
       "3        4  Ethereum    ETH  2015-08-11 23:59:59     1.131410     0.663235   \n",
       "4        5  Ethereum    ETH  2015-08-12 23:59:59     1.289940     0.883608   \n",
       "...    ...       ...    ...                  ...          ...          ...   \n",
       "2155  2156  Ethereum    ETH  2021-07-02 23:59:59  2155.596496  2021.824808   \n",
       "2156  2157  Ethereum    ETH  2021-07-03 23:59:59  2237.567155  2117.590013   \n",
       "2157  2158  Ethereum    ETH  2021-07-04 23:59:59  2384.286857  2190.837703   \n",
       "2158  2159  Ethereum    ETH  2021-07-05 23:59:59  2321.922836  2163.041394   \n",
       "2159  2160  Ethereum    ETH  2021-07-06 23:59:59  2346.294874  2197.919385   \n",
       "\n",
       "             Open        Close        Volume     Marketcap  \n",
       "0        2.793760     0.753325  6.741880e+05  4.548689e+07  \n",
       "1        0.706136     0.701897  5.321700e+05  4.239957e+07  \n",
       "2        0.713989     0.708448  4.052830e+05  4.281836e+07  \n",
       "3        0.708087     1.067860  1.463100e+06  6.456929e+07  \n",
       "4        1.058750     1.217440  2.150620e+06  7.364501e+07  \n",
       "...           ...          ...           ...           ...  \n",
       "2155  2109.892677  2150.040364  3.179621e+10  2.505527e+11  \n",
       "2156  2150.835025  2226.114282  1.743336e+10  2.594475e+11  \n",
       "2157  2226.550382  2321.724112  1.878711e+10  2.706217e+11  \n",
       "2158  2321.922836  2198.582464  2.010379e+10  2.562978e+11  \n",
       "2159  2197.919385  2324.679449  2.089186e+10  2.710286e+11  \n",
       "\n",
       "[2160 rows x 10 columns]"
      ]
     },
     "execution_count": 4,
     "metadata": {},
     "output_type": "execute_result"
    }
   ],
   "source": [
    "ethereum_df = pd.read_csv('coin_Ethereum.csv')\n",
    "ethereum_df\n",
    "\n",
    "#importing Ethereum dataset"
   ]
  },
  {
   "cell_type": "code",
   "execution_count": 5,
   "metadata": {},
   "outputs": [
    {
     "data": {
      "text/html": [
       "<div>\n",
       "<style scoped>\n",
       "    .dataframe tbody tr th:only-of-type {\n",
       "        vertical-align: middle;\n",
       "    }\n",
       "\n",
       "    .dataframe tbody tr th {\n",
       "        vertical-align: top;\n",
       "    }\n",
       "\n",
       "    .dataframe thead th {\n",
       "        text-align: right;\n",
       "    }\n",
       "</style>\n",
       "<table border=\"1\" class=\"dataframe\">\n",
       "  <thead>\n",
       "    <tr style=\"text-align: right;\">\n",
       "      <th></th>\n",
       "      <th>Date</th>\n",
       "      <th>Open</th>\n",
       "      <th>High</th>\n",
       "      <th>Low</th>\n",
       "      <th>Close</th>\n",
       "      <th>Adj Close</th>\n",
       "      <th>Volume</th>\n",
       "    </tr>\n",
       "  </thead>\n",
       "  <tbody>\n",
       "    <tr>\n",
       "      <th>0</th>\n",
       "      <td>2021-07-07</td>\n",
       "      <td>2323.208496</td>\n",
       "      <td>2403.773438</td>\n",
       "      <td>2298.026855</td>\n",
       "      <td>2315.161865</td>\n",
       "      <td>2315.161865</td>\n",
       "      <td>22398345285</td>\n",
       "    </tr>\n",
       "    <tr>\n",
       "      <th>1</th>\n",
       "      <td>2021-07-08</td>\n",
       "      <td>2317.949219</td>\n",
       "      <td>2324.006836</td>\n",
       "      <td>2089.414307</td>\n",
       "      <td>2120.026367</td>\n",
       "      <td>2120.026367</td>\n",
       "      <td>23188123689</td>\n",
       "    </tr>\n",
       "    <tr>\n",
       "      <th>2</th>\n",
       "      <td>2021-07-09</td>\n",
       "      <td>2115.573975</td>\n",
       "      <td>2185.376221</td>\n",
       "      <td>2051.066650</td>\n",
       "      <td>2146.692383</td>\n",
       "      <td>2146.692383</td>\n",
       "      <td>23029574602</td>\n",
       "    </tr>\n",
       "    <tr>\n",
       "      <th>3</th>\n",
       "      <td>2021-07-10</td>\n",
       "      <td>2146.999756</td>\n",
       "      <td>2190.124023</td>\n",
       "      <td>2081.923584</td>\n",
       "      <td>2111.403564</td>\n",
       "      <td>2111.403564</td>\n",
       "      <td>17581542471</td>\n",
       "    </tr>\n",
       "    <tr>\n",
       "      <th>4</th>\n",
       "      <td>2021-07-11</td>\n",
       "      <td>2110.875732</td>\n",
       "      <td>2172.653320</td>\n",
       "      <td>2083.803711</td>\n",
       "      <td>2139.664795</td>\n",
       "      <td>2139.664795</td>\n",
       "      <td>14705386138</td>\n",
       "    </tr>\n",
       "    <tr>\n",
       "      <th>...</th>\n",
       "      <td>...</td>\n",
       "      <td>...</td>\n",
       "      <td>...</td>\n",
       "      <td>...</td>\n",
       "      <td>...</td>\n",
       "      <td>...</td>\n",
       "      <td>...</td>\n",
       "    </tr>\n",
       "    <tr>\n",
       "      <th>501</th>\n",
       "      <td>2022-11-20</td>\n",
       "      <td>1218.436279</td>\n",
       "      <td>1224.077759</td>\n",
       "      <td>1137.933228</td>\n",
       "      <td>1142.466675</td>\n",
       "      <td>1142.466675</td>\n",
       "      <td>9651002684</td>\n",
       "    </tr>\n",
       "    <tr>\n",
       "      <th>502</th>\n",
       "      <td>2022-11-21</td>\n",
       "      <td>1142.395752</td>\n",
       "      <td>1142.395752</td>\n",
       "      <td>1084.857300</td>\n",
       "      <td>1108.353027</td>\n",
       "      <td>1108.353027</td>\n",
       "      <td>14080099208</td>\n",
       "    </tr>\n",
       "    <tr>\n",
       "      <th>503</th>\n",
       "      <td>2022-11-22</td>\n",
       "      <td>1107.895996</td>\n",
       "      <td>1136.442627</td>\n",
       "      <td>1081.138184</td>\n",
       "      <td>1135.173462</td>\n",
       "      <td>1135.173462</td>\n",
       "      <td>12040670755</td>\n",
       "    </tr>\n",
       "    <tr>\n",
       "      <th>504</th>\n",
       "      <td>2022-11-23</td>\n",
       "      <td>1135.421509</td>\n",
       "      <td>1184.997314</td>\n",
       "      <td>1130.022827</td>\n",
       "      <td>1183.199585</td>\n",
       "      <td>1183.199585</td>\n",
       "      <td>11242676044</td>\n",
       "    </tr>\n",
       "    <tr>\n",
       "      <th>505</th>\n",
       "      <td>2022-11-24</td>\n",
       "      <td>1183.345093</td>\n",
       "      <td>1211.627441</td>\n",
       "      <td>1180.379761</td>\n",
       "      <td>1203.983154</td>\n",
       "      <td>1203.983154</td>\n",
       "      <td>9706372376</td>\n",
       "    </tr>\n",
       "  </tbody>\n",
       "</table>\n",
       "<p>506 rows × 7 columns</p>\n",
       "</div>"
      ],
      "text/plain": [
       "           Date         Open         High          Low        Close  \\\n",
       "0    2021-07-07  2323.208496  2403.773438  2298.026855  2315.161865   \n",
       "1    2021-07-08  2317.949219  2324.006836  2089.414307  2120.026367   \n",
       "2    2021-07-09  2115.573975  2185.376221  2051.066650  2146.692383   \n",
       "3    2021-07-10  2146.999756  2190.124023  2081.923584  2111.403564   \n",
       "4    2021-07-11  2110.875732  2172.653320  2083.803711  2139.664795   \n",
       "..          ...          ...          ...          ...          ...   \n",
       "501  2022-11-20  1218.436279  1224.077759  1137.933228  1142.466675   \n",
       "502  2022-11-21  1142.395752  1142.395752  1084.857300  1108.353027   \n",
       "503  2022-11-22  1107.895996  1136.442627  1081.138184  1135.173462   \n",
       "504  2022-11-23  1135.421509  1184.997314  1130.022827  1183.199585   \n",
       "505  2022-11-24  1183.345093  1211.627441  1180.379761  1203.983154   \n",
       "\n",
       "       Adj Close       Volume  \n",
       "0    2315.161865  22398345285  \n",
       "1    2120.026367  23188123689  \n",
       "2    2146.692383  23029574602  \n",
       "3    2111.403564  17581542471  \n",
       "4    2139.664795  14705386138  \n",
       "..           ...          ...  \n",
       "501  1142.466675   9651002684  \n",
       "502  1108.353027  14080099208  \n",
       "503  1135.173462  12040670755  \n",
       "504  1183.199585  11242676044  \n",
       "505  1203.983154   9706372376  \n",
       "\n",
       "[506 rows x 7 columns]"
      ]
     },
     "execution_count": 5,
     "metadata": {},
     "output_type": "execute_result"
    }
   ],
   "source": [
    "update_data = pd.read_csv('ETH_Updated.csv')    #importing a separate Ethereum dataset from Yahoo Finance with data from 7 Jul 2021 till 24 Nov 2022\n",
    "update_data"
   ]
  },
  {
   "cell_type": "code",
   "execution_count": 6,
   "metadata": {},
   "outputs": [
    {
     "data": {
      "text/html": [
       "<div>\n",
       "<style scoped>\n",
       "    .dataframe tbody tr th:only-of-type {\n",
       "        vertical-align: middle;\n",
       "    }\n",
       "\n",
       "    .dataframe tbody tr th {\n",
       "        vertical-align: top;\n",
       "    }\n",
       "\n",
       "    .dataframe thead th {\n",
       "        text-align: right;\n",
       "    }\n",
       "</style>\n",
       "<table border=\"1\" class=\"dataframe\">\n",
       "  <thead>\n",
       "    <tr style=\"text-align: right;\">\n",
       "      <th></th>\n",
       "      <th>SNo</th>\n",
       "      <th>Name</th>\n",
       "      <th>Symbol</th>\n",
       "      <th>Date</th>\n",
       "      <th>High</th>\n",
       "      <th>Low</th>\n",
       "      <th>Open</th>\n",
       "      <th>Close</th>\n",
       "      <th>Volume</th>\n",
       "      <th>Marketcap</th>\n",
       "      <th>Adj Close</th>\n",
       "    </tr>\n",
       "  </thead>\n",
       "  <tbody>\n",
       "    <tr>\n",
       "      <th>0</th>\n",
       "      <td>1.0</td>\n",
       "      <td>Ethereum</td>\n",
       "      <td>ETH</td>\n",
       "      <td>2015-08-08 23:59:59</td>\n",
       "      <td>2.798810</td>\n",
       "      <td>0.714725</td>\n",
       "      <td>2.793760</td>\n",
       "      <td>0.753325</td>\n",
       "      <td>6.741880e+05</td>\n",
       "      <td>4.548689e+07</td>\n",
       "      <td>NaN</td>\n",
       "    </tr>\n",
       "    <tr>\n",
       "      <th>1</th>\n",
       "      <td>2.0</td>\n",
       "      <td>Ethereum</td>\n",
       "      <td>ETH</td>\n",
       "      <td>2015-08-09 23:59:59</td>\n",
       "      <td>0.879810</td>\n",
       "      <td>0.629191</td>\n",
       "      <td>0.706136</td>\n",
       "      <td>0.701897</td>\n",
       "      <td>5.321700e+05</td>\n",
       "      <td>4.239957e+07</td>\n",
       "      <td>NaN</td>\n",
       "    </tr>\n",
       "    <tr>\n",
       "      <th>2</th>\n",
       "      <td>3.0</td>\n",
       "      <td>Ethereum</td>\n",
       "      <td>ETH</td>\n",
       "      <td>2015-08-10 23:59:59</td>\n",
       "      <td>0.729854</td>\n",
       "      <td>0.636546</td>\n",
       "      <td>0.713989</td>\n",
       "      <td>0.708448</td>\n",
       "      <td>4.052830e+05</td>\n",
       "      <td>4.281836e+07</td>\n",
       "      <td>NaN</td>\n",
       "    </tr>\n",
       "    <tr>\n",
       "      <th>3</th>\n",
       "      <td>4.0</td>\n",
       "      <td>Ethereum</td>\n",
       "      <td>ETH</td>\n",
       "      <td>2015-08-11 23:59:59</td>\n",
       "      <td>1.131410</td>\n",
       "      <td>0.663235</td>\n",
       "      <td>0.708087</td>\n",
       "      <td>1.067860</td>\n",
       "      <td>1.463100e+06</td>\n",
       "      <td>6.456929e+07</td>\n",
       "      <td>NaN</td>\n",
       "    </tr>\n",
       "    <tr>\n",
       "      <th>4</th>\n",
       "      <td>5.0</td>\n",
       "      <td>Ethereum</td>\n",
       "      <td>ETH</td>\n",
       "      <td>2015-08-12 23:59:59</td>\n",
       "      <td>1.289940</td>\n",
       "      <td>0.883608</td>\n",
       "      <td>1.058750</td>\n",
       "      <td>1.217440</td>\n",
       "      <td>2.150620e+06</td>\n",
       "      <td>7.364501e+07</td>\n",
       "      <td>NaN</td>\n",
       "    </tr>\n",
       "    <tr>\n",
       "      <th>...</th>\n",
       "      <td>...</td>\n",
       "      <td>...</td>\n",
       "      <td>...</td>\n",
       "      <td>...</td>\n",
       "      <td>...</td>\n",
       "      <td>...</td>\n",
       "      <td>...</td>\n",
       "      <td>...</td>\n",
       "      <td>...</td>\n",
       "      <td>...</td>\n",
       "      <td>...</td>\n",
       "    </tr>\n",
       "    <tr>\n",
       "      <th>501</th>\n",
       "      <td>NaN</td>\n",
       "      <td>NaN</td>\n",
       "      <td>NaN</td>\n",
       "      <td>2022-11-20</td>\n",
       "      <td>1224.077759</td>\n",
       "      <td>1137.933228</td>\n",
       "      <td>1218.436279</td>\n",
       "      <td>1142.466675</td>\n",
       "      <td>9.651003e+09</td>\n",
       "      <td>NaN</td>\n",
       "      <td>1142.466675</td>\n",
       "    </tr>\n",
       "    <tr>\n",
       "      <th>502</th>\n",
       "      <td>NaN</td>\n",
       "      <td>NaN</td>\n",
       "      <td>NaN</td>\n",
       "      <td>2022-11-21</td>\n",
       "      <td>1142.395752</td>\n",
       "      <td>1084.857300</td>\n",
       "      <td>1142.395752</td>\n",
       "      <td>1108.353027</td>\n",
       "      <td>1.408010e+10</td>\n",
       "      <td>NaN</td>\n",
       "      <td>1108.353027</td>\n",
       "    </tr>\n",
       "    <tr>\n",
       "      <th>503</th>\n",
       "      <td>NaN</td>\n",
       "      <td>NaN</td>\n",
       "      <td>NaN</td>\n",
       "      <td>2022-11-22</td>\n",
       "      <td>1136.442627</td>\n",
       "      <td>1081.138184</td>\n",
       "      <td>1107.895996</td>\n",
       "      <td>1135.173462</td>\n",
       "      <td>1.204067e+10</td>\n",
       "      <td>NaN</td>\n",
       "      <td>1135.173462</td>\n",
       "    </tr>\n",
       "    <tr>\n",
       "      <th>504</th>\n",
       "      <td>NaN</td>\n",
       "      <td>NaN</td>\n",
       "      <td>NaN</td>\n",
       "      <td>2022-11-23</td>\n",
       "      <td>1184.997314</td>\n",
       "      <td>1130.022827</td>\n",
       "      <td>1135.421509</td>\n",
       "      <td>1183.199585</td>\n",
       "      <td>1.124268e+10</td>\n",
       "      <td>NaN</td>\n",
       "      <td>1183.199585</td>\n",
       "    </tr>\n",
       "    <tr>\n",
       "      <th>505</th>\n",
       "      <td>NaN</td>\n",
       "      <td>NaN</td>\n",
       "      <td>NaN</td>\n",
       "      <td>2022-11-24</td>\n",
       "      <td>1211.627441</td>\n",
       "      <td>1180.379761</td>\n",
       "      <td>1183.345093</td>\n",
       "      <td>1203.983154</td>\n",
       "      <td>9.706372e+09</td>\n",
       "      <td>NaN</td>\n",
       "      <td>1203.983154</td>\n",
       "    </tr>\n",
       "  </tbody>\n",
       "</table>\n",
       "<p>2666 rows × 11 columns</p>\n",
       "</div>"
      ],
      "text/plain": [
       "     SNo      Name Symbol                 Date         High          Low  \\\n",
       "0    1.0  Ethereum    ETH  2015-08-08 23:59:59     2.798810     0.714725   \n",
       "1    2.0  Ethereum    ETH  2015-08-09 23:59:59     0.879810     0.629191   \n",
       "2    3.0  Ethereum    ETH  2015-08-10 23:59:59     0.729854     0.636546   \n",
       "3    4.0  Ethereum    ETH  2015-08-11 23:59:59     1.131410     0.663235   \n",
       "4    5.0  Ethereum    ETH  2015-08-12 23:59:59     1.289940     0.883608   \n",
       "..   ...       ...    ...                  ...          ...          ...   \n",
       "501  NaN       NaN    NaN           2022-11-20  1224.077759  1137.933228   \n",
       "502  NaN       NaN    NaN           2022-11-21  1142.395752  1084.857300   \n",
       "503  NaN       NaN    NaN           2022-11-22  1136.442627  1081.138184   \n",
       "504  NaN       NaN    NaN           2022-11-23  1184.997314  1130.022827   \n",
       "505  NaN       NaN    NaN           2022-11-24  1211.627441  1180.379761   \n",
       "\n",
       "            Open        Close        Volume     Marketcap    Adj Close  \n",
       "0       2.793760     0.753325  6.741880e+05  4.548689e+07          NaN  \n",
       "1       0.706136     0.701897  5.321700e+05  4.239957e+07          NaN  \n",
       "2       0.713989     0.708448  4.052830e+05  4.281836e+07          NaN  \n",
       "3       0.708087     1.067860  1.463100e+06  6.456929e+07          NaN  \n",
       "4       1.058750     1.217440  2.150620e+06  7.364501e+07          NaN  \n",
       "..           ...          ...           ...           ...          ...  \n",
       "501  1218.436279  1142.466675  9.651003e+09           NaN  1142.466675  \n",
       "502  1142.395752  1108.353027  1.408010e+10           NaN  1108.353027  \n",
       "503  1107.895996  1135.173462  1.204067e+10           NaN  1135.173462  \n",
       "504  1135.421509  1183.199585  1.124268e+10           NaN  1183.199585  \n",
       "505  1183.345093  1203.983154  9.706372e+09           NaN  1203.983154  \n",
       "\n",
       "[2666 rows x 11 columns]"
      ]
     },
     "execution_count": 6,
     "metadata": {},
     "output_type": "execute_result"
    }
   ],
   "source": [
    "ethereum_df = pd.concat([ethereum_df,update_data], axis=0)\n",
    "ethereum_df\n",
    "\n",
    "#updating the Ethereum dataset so that we have data all the way till 24 Nov 2022 (considered to be current day)"
   ]
  },
  {
   "cell_type": "markdown",
   "metadata": {},
   "source": [
    "### Data Pre-processing"
   ]
  },
  {
   "cell_type": "code",
   "execution_count": 7,
   "metadata": {},
   "outputs": [
    {
     "data": {
      "text/plain": [
       "SNo           506\n",
       "Name          506\n",
       "Symbol        506\n",
       "Date            0\n",
       "High            0\n",
       "Low             0\n",
       "Open            0\n",
       "Close           0\n",
       "Volume          0\n",
       "Marketcap     506\n",
       "Adj Close    2160\n",
       "dtype: int64"
      ]
     },
     "execution_count": 7,
     "metadata": {},
     "output_type": "execute_result"
    }
   ],
   "source": [
    "ethereum_df.isnull().sum()\n",
    "\n",
    "\n",
    "#checking for null values. 'Close' column has no null values, hence we can ignore the null values."
   ]
  },
  {
   "cell_type": "code",
   "execution_count": 8,
   "metadata": {},
   "outputs": [
    {
     "data": {
      "text/plain": [
       "0"
      ]
     },
     "execution_count": 8,
     "metadata": {},
     "output_type": "execute_result"
    }
   ],
   "source": [
    "ethereum_df.duplicated().sum()\n",
    "\n",
    "#checking for duplicate data. No duplicated data."
   ]
  },
  {
   "cell_type": "code",
   "execution_count": 9,
   "metadata": {},
   "outputs": [
    {
     "data": {
      "text/html": [
       "<div>\n",
       "<style scoped>\n",
       "    .dataframe tbody tr th:only-of-type {\n",
       "        vertical-align: middle;\n",
       "    }\n",
       "\n",
       "    .dataframe tbody tr th {\n",
       "        vertical-align: top;\n",
       "    }\n",
       "\n",
       "    .dataframe thead th {\n",
       "        text-align: right;\n",
       "    }\n",
       "</style>\n",
       "<table border=\"1\" class=\"dataframe\">\n",
       "  <thead>\n",
       "    <tr style=\"text-align: right;\">\n",
       "      <th></th>\n",
       "      <th>SNo</th>\n",
       "      <th>Name</th>\n",
       "      <th>Symbol</th>\n",
       "      <th>Date</th>\n",
       "      <th>High</th>\n",
       "      <th>Low</th>\n",
       "      <th>Open</th>\n",
       "      <th>Close</th>\n",
       "      <th>Volume</th>\n",
       "      <th>Marketcap</th>\n",
       "      <th>Adj Close</th>\n",
       "    </tr>\n",
       "  </thead>\n",
       "  <tbody>\n",
       "    <tr>\n",
       "      <th>0</th>\n",
       "      <td>1.0</td>\n",
       "      <td>Ethereum</td>\n",
       "      <td>ETH</td>\n",
       "      <td>2015-08-08</td>\n",
       "      <td>2.798810</td>\n",
       "      <td>0.714725</td>\n",
       "      <td>2.793760</td>\n",
       "      <td>0.753325</td>\n",
       "      <td>674188.0</td>\n",
       "      <td>4.548689e+07</td>\n",
       "      <td>NaN</td>\n",
       "    </tr>\n",
       "    <tr>\n",
       "      <th>1</th>\n",
       "      <td>2.0</td>\n",
       "      <td>Ethereum</td>\n",
       "      <td>ETH</td>\n",
       "      <td>2015-08-09</td>\n",
       "      <td>0.879810</td>\n",
       "      <td>0.629191</td>\n",
       "      <td>0.706136</td>\n",
       "      <td>0.701897</td>\n",
       "      <td>532170.0</td>\n",
       "      <td>4.239957e+07</td>\n",
       "      <td>NaN</td>\n",
       "    </tr>\n",
       "    <tr>\n",
       "      <th>2</th>\n",
       "      <td>3.0</td>\n",
       "      <td>Ethereum</td>\n",
       "      <td>ETH</td>\n",
       "      <td>2015-08-10</td>\n",
       "      <td>0.729854</td>\n",
       "      <td>0.636546</td>\n",
       "      <td>0.713989</td>\n",
       "      <td>0.708448</td>\n",
       "      <td>405283.0</td>\n",
       "      <td>4.281836e+07</td>\n",
       "      <td>NaN</td>\n",
       "    </tr>\n",
       "    <tr>\n",
       "      <th>3</th>\n",
       "      <td>4.0</td>\n",
       "      <td>Ethereum</td>\n",
       "      <td>ETH</td>\n",
       "      <td>2015-08-11</td>\n",
       "      <td>1.131410</td>\n",
       "      <td>0.663235</td>\n",
       "      <td>0.708087</td>\n",
       "      <td>1.067860</td>\n",
       "      <td>1463100.0</td>\n",
       "      <td>6.456929e+07</td>\n",
       "      <td>NaN</td>\n",
       "    </tr>\n",
       "    <tr>\n",
       "      <th>4</th>\n",
       "      <td>5.0</td>\n",
       "      <td>Ethereum</td>\n",
       "      <td>ETH</td>\n",
       "      <td>2015-08-12</td>\n",
       "      <td>1.289940</td>\n",
       "      <td>0.883608</td>\n",
       "      <td>1.058750</td>\n",
       "      <td>1.217440</td>\n",
       "      <td>2150620.0</td>\n",
       "      <td>7.364501e+07</td>\n",
       "      <td>NaN</td>\n",
       "    </tr>\n",
       "  </tbody>\n",
       "</table>\n",
       "</div>"
      ],
      "text/plain": [
       "   SNo      Name Symbol        Date      High       Low      Open     Close  \\\n",
       "0  1.0  Ethereum    ETH  2015-08-08  2.798810  0.714725  2.793760  0.753325   \n",
       "1  2.0  Ethereum    ETH  2015-08-09  0.879810  0.629191  0.706136  0.701897   \n",
       "2  3.0  Ethereum    ETH  2015-08-10  0.729854  0.636546  0.713989  0.708448   \n",
       "3  4.0  Ethereum    ETH  2015-08-11  1.131410  0.663235  0.708087  1.067860   \n",
       "4  5.0  Ethereum    ETH  2015-08-12  1.289940  0.883608  1.058750  1.217440   \n",
       "\n",
       "      Volume     Marketcap  Adj Close  \n",
       "0   674188.0  4.548689e+07        NaN  \n",
       "1   532170.0  4.239957e+07        NaN  \n",
       "2   405283.0  4.281836e+07        NaN  \n",
       "3  1463100.0  6.456929e+07        NaN  \n",
       "4  2150620.0  7.364501e+07        NaN  "
      ]
     },
     "execution_count": 9,
     "metadata": {},
     "output_type": "execute_result"
    }
   ],
   "source": [
    "#converting 'Date' column to datetime objects\n",
    "\n",
    "import datetime as dt\n",
    "ethereum_df['Date'] = pd.to_datetime(ethereum_df['Date'])\n",
    "ethereum_df['Date'] = ethereum_df['Date'].dt.date\n",
    "ethereum_df.head()     "
   ]
  },
  {
   "cell_type": "markdown",
   "metadata": {},
   "source": [
    "### Visualizing the historical Ethereum price"
   ]
  },
  {
   "cell_type": "code",
   "execution_count": 10,
   "metadata": {},
   "outputs": [
    {
     "data": {
      "text/plain": [
       "Text(0, 0.5, 'Price in USD')"
      ]
     },
     "execution_count": 10,
     "metadata": {},
     "output_type": "execute_result"
    },
    {
     "data": {
      "image/png": "[encoded data removed]",
      "text/plain": [
       "<Figure size 1080x720 with 1 Axes>"
      ]
     },
     "metadata": {
      "needs_background": "light"
     },
     "output_type": "display_data"
    }
   ],
   "source": [
    "fig1,ax = plt.subplots(figsize = (15,10))\n",
    "fig1.suptitle('Ethereum Price History')\n",
    "ethereum_df.plot(x='Date',y='Close', ax=ax)\n",
    "ax.set_xlabel('Date')\n",
    "ax.set_ylabel('Price in USD')"
   ]
  },
  {
   "cell_type": "markdown",
   "metadata": {},
   "source": [
    "### Split data into training and test set"
   ]
  },
  {
   "cell_type": "code",
   "execution_count": 11,
   "metadata": {},
   "outputs": [],
   "source": [
    "closing_prices_eth = ethereum_df['Close'].values    #extracting the values of the closing prices into a series\n",
    "training_data_len = math.ceil(len(closing_prices_eth)*0.8) #calculating the size of the training data (80% of data to be used)"
   ]
  },
  {
   "cell_type": "code",
   "execution_count": 12,
   "metadata": {},
   "outputs": [
    {
     "data": {
      "text/plain": [
       "2133"
      ]
     },
     "execution_count": 12,
     "metadata": {},
     "output_type": "execute_result"
    }
   ],
   "source": [
    "training_data_len       #original dataframe had 2666 rows, 80% of the data would consist of 2133 rows (rounded up)"
   ]
  },
  {
   "cell_type": "code",
   "execution_count": 13,
   "metadata": {},
   "outputs": [],
   "source": [
    "closing_prices_eth = closing_prices_eth.reshape(-1,1)       #reshaping the closing prices series into a 2D array"
   ]
  },
  {
   "cell_type": "code",
   "execution_count": 57,
   "metadata": {},
   "outputs": [],
   "source": [
    "scaler = MinMaxScaler()\n",
    "scaled_prices_eth = scaler.fit_transform(closing_prices_eth.reshape(-1,1))     #normalizing the closing price data as data does not follow a Gaussian distribution\n",
    "training_data = scaled_prices_eth[0:training_data_len,:]                       #80% of the scaled closing price data to be used as the training data\n",
    "\n",
    "X_train = []\n",
    "Y_train = []\n",
    "\n",
    "for i in range(60,len(training_data)):\n",
    "    X_train.append(training_data[i-60:i,0])     #x_train data consists of the prices of the past 60 days\n",
    "    Y_train.append(training_data[i,0])          #y_train data (label data) consists of the prices of the next corresponding 60 days\n",
    "\n",
    "\n",
    "X_train, Y_train = np.array(X_train), np.array(Y_train)         #converting the data into numpy array for Tensorflow to accept the data\n"
   ]
  },
  {
   "cell_type": "code",
   "execution_count": 58,
   "metadata": {},
   "outputs": [
    {
     "data": {
      "text/plain": [
       "(2073, 60)"
      ]
     },
     "execution_count": 58,
     "metadata": {},
     "output_type": "execute_result"
    }
   ],
   "source": [
    "X_train.shape     #x_train should have (2133-60) rows of data since it contains the previous 60 days of data."
   ]
  },
  {
   "cell_type": "code",
   "execution_count": 59,
   "metadata": {},
   "outputs": [
    {
     "data": {
      "text/plain": [
       "(2073,)"
      ]
     },
     "execution_count": 59,
     "metadata": {},
     "output_type": "execute_result"
    }
   ],
   "source": [
    "Y_train.shape"
   ]
  },
  {
   "cell_type": "code",
   "execution_count": 60,
   "metadata": {},
   "outputs": [],
   "source": [
    "X_train = np.reshape(X_train, (2073,60,1))      #reshaping X_train data into a 3D array to train LSTM model."
   ]
  },
  {
   "cell_type": "code",
   "execution_count": 61,
   "metadata": {},
   "outputs": [],
   "source": [
    "test_data = scaled_prices_eth[training_data_len-60:,:]        \n",
    "\n",
    "X_test = []\n",
    "Y_test = closing_prices_eth[training_data_len:]             #y_test will be the final 20% of the closing price data\n",
    "\n",
    "for i in range(60, len(test_data)):\n",
    "    X_test.append(test_data[i-60:i,0])                     #x_test will be the previous 60 days of data corresponding to Y_test data\n",
    "\n",
    "\n",
    "X_test, Y_test = np.array(X_test), np.array(Y_test)\n",
    "\n",
    "#Doing the same for the test set"
   ]
  },
  {
   "cell_type": "code",
   "execution_count": 62,
   "metadata": {},
   "outputs": [
    {
     "data": {
      "text/plain": [
       "(533, 60)"
      ]
     },
     "execution_count": 62,
     "metadata": {},
     "output_type": "execute_result"
    }
   ],
   "source": [
    "X_test.shape"
   ]
  },
  {
   "cell_type": "code",
   "execution_count": 63,
   "metadata": {},
   "outputs": [
    {
     "data": {
      "text/plain": [
       "(533, 1)"
      ]
     },
     "execution_count": 63,
     "metadata": {},
     "output_type": "execute_result"
    }
   ],
   "source": [
    "Y_test.shape"
   ]
  },
  {
   "cell_type": "code",
   "execution_count": 64,
   "metadata": {},
   "outputs": [],
   "source": [
    "X_test = np.reshape(X_test, (533,60,1))"
   ]
  },
  {
   "cell_type": "markdown",
   "metadata": {},
   "source": [
    "### Setting up LSTM network"
   ]
  },
  {
   "cell_type": "code",
   "execution_count": 27,
   "metadata": {},
   "outputs": [],
   "source": [
    "import tensorflow as tf\n",
    "from tensorflow import keras\n",
    "from tensorflow.keras import layers\n",
    "from keras.layers import LSTM\n",
    "from keras.models import Sequential\n",
    "\n",
    "#importing the necessary libraries"
   ]
  },
  {
   "cell_type": "code",
   "execution_count": 65,
   "metadata": {},
   "outputs": [
    {
     "name": "stdout",
     "output_type": "stream",
     "text": [
      "Model: \"sequential_1\"\n",
      "_________________________________________________________________\n",
      " Layer (type)                Output Shape              Param #   \n",
      "=================================================================\n",
      " lstm_2 (LSTM)               (None, 60, 150)           91200     \n",
      "                                                                 \n",
      " lstm_3 (LSTM)               (None, 150)               180600    \n",
      "                                                                 \n",
      " dense_2 (Dense)             (None, 30)                4530      \n",
      "                                                                 \n",
      " dense_3 (Dense)             (None, 1)                 31        \n",
      "                                                                 \n",
      "=================================================================\n",
      "Total params: 276,361\n",
      "Trainable params: 276,361\n",
      "Non-trainable params: 0\n",
      "_________________________________________________________________\n"
     ]
    }
   ],
   "source": [
    "model = keras.Sequential()      #sequential model is used as we are working with sequential data and we are trying to predict future sequential data\n",
    "model.add(LSTM(150, return_sequences = True, input_shape = (60,1)))\n",
    "model.add(LSTM(150, return_sequences = False))\n",
    "model.add(layers.Dense(30))\n",
    "model.add(layers.Dense(1))\n",
    "model.summary()"
   ]
  },
  {
   "cell_type": "markdown",
   "metadata": {},
   "source": [
    "### Training the model"
   ]
  },
  {
   "cell_type": "code",
   "execution_count": 67,
   "metadata": {},
   "outputs": [
    {
     "name": "stdout",
     "output_type": "stream",
     "text": [
      "Epoch 1/3\n",
      "2073/2073 [==============================] - 83s 38ms/step - loss: 6.5135e-04\n",
      "Epoch 2/3\n",
      "2073/2073 [==============================] - 128s 62ms/step - loss: 2.8313e-04\n",
      "Epoch 3/3\n",
      "2073/2073 [==============================] - 139s 67ms/step - loss: 4.3051e-04\n"
     ]
    },
    {
     "data": {
      "text/plain": [
       "<keras.callbacks.History at 0x1efb34ed720>"
      ]
     },
     "execution_count": 67,
     "metadata": {},
     "output_type": "execute_result"
    }
   ],
   "source": [
    "model.compile(optimizer = 'adam', loss = 'mean_squared_error')\n",
    "model.fit(X_train, Y_train, batch_size =1, epochs=3)    #training the model by looking at 1 data point at a time and running the model through the data 3 times"
   ]
  },
  {
   "cell_type": "markdown",
   "metadata": {},
   "source": [
    "### Predicting ETH prices and comparing Y_test data with using RMSE evaluation metric"
   ]
  },
  {
   "cell_type": "code",
   "execution_count": 68,
   "metadata": {},
   "outputs": [
    {
     "name": "stdout",
     "output_type": "stream",
     "text": [
      "17/17 [==============================] - 6s 93ms/step\n"
     ]
    },
    {
     "data": {
      "text/plain": [
       "180.45563416092025"
      ]
     },
     "execution_count": 68,
     "metadata": {},
     "output_type": "execute_result"
    }
   ],
   "source": [
    "from sklearn.metrics import mean_squared_error\n",
    "\n",
    "predicted_price = model.predict(X_test)\n",
    "predicted_price_unscaled = scaler.inverse_transform(predicted_price)\n",
    "RMSE = np.sqrt(mean_squared_error(Y_test, predicted_price_unscaled))\n",
    "RMSE\n",
    "\n",
    "#RMSE at 180"
   ]
  },
  {
   "cell_type": "markdown",
   "metadata": {},
   "source": [
    "### Visualizing the predicted prices vs actual prices"
   ]
  },
  {
   "cell_type": "code",
   "execution_count": 71,
   "metadata": {},
   "outputs": [
    {
     "name": "stderr",
     "output_type": "stream",
     "text": [
      "C:\\Users\\USER\\AppData\\Local\\Temp\\ipykernel_15040\\2846670922.py:4: SettingWithCopyWarning: \n",
      "A value is trying to be set on a copy of a slice from a DataFrame.\n",
      "Try using .loc[row_indexer,col_indexer] = value instead\n",
      "\n",
      "See the caveats in the documentation: https://pandas.pydata.org/pandas-docs/stable/user_guide/indexing.html#returning-a-view-versus-a-copy\n",
      "  test['Predictions'] = predicted_price_unscaled\n"
     ]
    },
    {
     "data": {
      "image/png": "[encoded data removed]",
      "text/plain": [
       "<Figure size 1440x720 with 1 Axes>"
      ]
     },
     "metadata": {
      "needs_background": "light"
     },
     "output_type": "display_data"
    }
   ],
   "source": [
    "ethereum_prices = ethereum_df[['Date','Close']]\n",
    "train = ethereum_prices[:training_data_len]\n",
    "test = ethereum_prices[training_data_len:]\n",
    "test['Predictions'] = predicted_price_unscaled\n",
    "fig,ax = plt.subplots(figsize=(20,10))\n",
    "ax.set_title('Predictions on ETH prices')\n",
    "ax.set_xlabel('Date')\n",
    "ax.set_ylabel('Price in USD')\n",
    "train.plot(x='Date',y='Close',ax=ax, color = 'b')\n",
    "test.plot(x='Date',y = 'Close',ax=ax, color = 'g')\n",
    "test.plot(x='Date',y='Predictions',ax=ax, color = 'r')\n",
    "ax.legend(['Train','Test','Predictions'],loc = 4)\n",
    "plt.show()"
   ]
  },
  {
   "cell_type": "code",
   "execution_count": 32,
   "metadata": {},
   "outputs": [
    {
     "data": {
      "text/html": [
       "<div>\n",
       "<style scoped>\n",
       "    .dataframe tbody tr th:only-of-type {\n",
       "        vertical-align: middle;\n",
       "    }\n",
       "\n",
       "    .dataframe tbody tr th {\n",
       "        vertical-align: top;\n",
       "    }\n",
       "\n",
       "    .dataframe thead th {\n",
       "        text-align: right;\n",
       "    }\n",
       "</style>\n",
       "<table border=\"1\" class=\"dataframe\">\n",
       "  <thead>\n",
       "    <tr style=\"text-align: right;\">\n",
       "      <th></th>\n",
       "      <th>Date</th>\n",
       "      <th>Close</th>\n",
       "      <th>Predictions</th>\n",
       "    </tr>\n",
       "  </thead>\n",
       "  <tbody>\n",
       "    <tr>\n",
       "      <th>2133</th>\n",
       "      <td>2021-06-10</td>\n",
       "      <td>2471.518675</td>\n",
       "      <td>2436.218750</td>\n",
       "    </tr>\n",
       "    <tr>\n",
       "      <th>2134</th>\n",
       "      <td>2021-06-11</td>\n",
       "      <td>2353.768687</td>\n",
       "      <td>2380.548584</td>\n",
       "    </tr>\n",
       "    <tr>\n",
       "      <th>2135</th>\n",
       "      <td>2021-06-12</td>\n",
       "      <td>2372.484454</td>\n",
       "      <td>2273.960205</td>\n",
       "    </tr>\n",
       "    <tr>\n",
       "      <th>2136</th>\n",
       "      <td>2021-06-13</td>\n",
       "      <td>2508.391632</td>\n",
       "      <td>2243.348389</td>\n",
       "    </tr>\n",
       "    <tr>\n",
       "      <th>2137</th>\n",
       "      <td>2021-06-14</td>\n",
       "      <td>2537.891158</td>\n",
       "      <td>2340.672852</td>\n",
       "    </tr>\n",
       "    <tr>\n",
       "      <th>...</th>\n",
       "      <td>...</td>\n",
       "      <td>...</td>\n",
       "      <td>...</td>\n",
       "    </tr>\n",
       "    <tr>\n",
       "      <th>501</th>\n",
       "      <td>2022-11-20</td>\n",
       "      <td>1142.466675</td>\n",
       "      <td>1196.877319</td>\n",
       "    </tr>\n",
       "    <tr>\n",
       "      <th>502</th>\n",
       "      <td>2022-11-21</td>\n",
       "      <td>1108.353027</td>\n",
       "      <td>1150.960449</td>\n",
       "    </tr>\n",
       "    <tr>\n",
       "      <th>503</th>\n",
       "      <td>2022-11-22</td>\n",
       "      <td>1135.173462</td>\n",
       "      <td>1102.765137</td>\n",
       "    </tr>\n",
       "    <tr>\n",
       "      <th>504</th>\n",
       "      <td>2022-11-23</td>\n",
       "      <td>1183.199585</td>\n",
       "      <td>1102.108521</td>\n",
       "    </tr>\n",
       "    <tr>\n",
       "      <th>505</th>\n",
       "      <td>2022-11-24</td>\n",
       "      <td>1203.983154</td>\n",
       "      <td>1143.544067</td>\n",
       "    </tr>\n",
       "  </tbody>\n",
       "</table>\n",
       "<p>533 rows × 3 columns</p>\n",
       "</div>"
      ],
      "text/plain": [
       "            Date        Close  Predictions\n",
       "2133  2021-06-10  2471.518675  2436.218750\n",
       "2134  2021-06-11  2353.768687  2380.548584\n",
       "2135  2021-06-12  2372.484454  2273.960205\n",
       "2136  2021-06-13  2508.391632  2243.348389\n",
       "2137  2021-06-14  2537.891158  2340.672852\n",
       "...          ...          ...          ...\n",
       "501   2022-11-20  1142.466675  1196.877319\n",
       "502   2022-11-21  1108.353027  1150.960449\n",
       "503   2022-11-22  1135.173462  1102.765137\n",
       "504   2022-11-23  1183.199585  1102.108521\n",
       "505   2022-11-24  1203.983154  1143.544067\n",
       "\n",
       "[533 rows x 3 columns]"
      ]
     },
     "execution_count": 32,
     "metadata": {},
     "output_type": "execute_result"
    }
   ],
   "source": [
    "test     #predicted price vs actual price"
   ]
  },
  {
   "cell_type": "markdown",
   "metadata": {},
   "source": [
    "### Predicting prices beyond the present day (24 Nov 2022)"
   ]
  },
  {
   "cell_type": "code",
   "execution_count": 33,
   "metadata": {},
   "outputs": [
    {
     "data": {
      "text/plain": [
       "533"
      ]
     },
     "execution_count": 33,
     "metadata": {},
     "output_type": "execute_result"
    }
   ],
   "source": [
    "len(Y_test)"
   ]
  },
  {
   "cell_type": "code",
   "execution_count": 55,
   "metadata": {},
   "outputs": [],
   "source": [
    "last_60days = Y_test[len(Y_test)-60:]\n",
    "last_60days = last_60days.reshape(1,-1)\n",
    "last_60days_list = list(last_60days)\n",
    "\n",
    "#extracting the most recent 60 days worth of data starting from 24 Nov 2022 (present day)"
   ]
  },
  {
   "cell_type": "code",
   "execution_count": 56,
   "metadata": {},
   "outputs": [
    {
     "data": {
      "text/plain": [
       "(1, 60)"
      ]
     },
     "execution_count": 56,
     "metadata": {},
     "output_type": "execute_result"
    }
   ],
   "source": [
    "last_60days.shape"
   ]
  },
  {
   "cell_type": "code",
   "execution_count": 38,
   "metadata": {},
   "outputs": [],
   "source": [
    "last_60days_list = last_60days_list[0].tolist()\n",
    "\n",
    "#compiling the most recent 60 days data into a list"
   ]
  },
  {
   "cell_type": "code",
   "execution_count": 39,
   "metadata": {},
   "outputs": [
    {
     "data": {
      "text/plain": [
       "[1335.32019,\n",
       " 1330.127686,\n",
       " 1337.410889,\n",
       " 1335.652344,\n",
       " 1327.978638,\n",
       " 1311.644409,\n",
       " 1276.093506,\n",
       " 1323.439209,\n",
       " 1362.126587,\n",
       " 1352.837158,\n",
       " 1351.709473,\n",
       " 1332.516968,\n",
       " 1315.500488,\n",
       " 1322.604248,\n",
       " 1291.337646,\n",
       " 1279.575684,\n",
       " 1294.906372,\n",
       " 1288.123901,\n",
       " 1297.422119,\n",
       " 1274.871704,\n",
       " 1306.296631,\n",
       " 1331.713623,\n",
       " 1310.447021,\n",
       " 1285.744263,\n",
       " 1283.200928,\n",
       " 1299.946411,\n",
       " 1314.299194,\n",
       " 1363.447021,\n",
       " 1344.998535,\n",
       " 1461.665405,\n",
       " 1566.56665,\n",
       " 1514.374878,\n",
       " 1555.477905,\n",
       " 1619.698486,\n",
       " 1590.783325,\n",
       " 1572.714478,\n",
       " 1579.70459,\n",
       " 1519.711792,\n",
       " 1531.541748,\n",
       " 1645.093384,\n",
       " 1627.968018,\n",
       " 1572.234741,\n",
       " 1568.591309,\n",
       " 1332.835571,\n",
       " 1100.1698,\n",
       " 1299.4646,\n",
       " 1287.221069,\n",
       " 1255.268311,\n",
       " 1221.819214,\n",
       " 1241.604248,\n",
       " 1251.736206,\n",
       " 1215.602539,\n",
       " 1200.808594,\n",
       " 1212.300293,\n",
       " 1218.426758,\n",
       " 1142.466675,\n",
       " 1108.353027,\n",
       " 1135.173462,\n",
       " 1183.199585,\n",
       " 1203.983154]"
      ]
     },
     "execution_count": 39,
     "metadata": {},
     "output_type": "execute_result"
    }
   ],
   "source": [
    "last_60days_list"
   ]
  },
  {
   "cell_type": "code",
   "execution_count": 44,
   "metadata": {},
   "outputs": [
    {
     "name": "stdout",
     "output_type": "stream",
     "text": [
      "[[0.1899351179599762], [0.18992601335048676], [0.18991737067699432], [0.18990914523601532], [0.18990138173103333], [0.18989400565624237], [0.18988703191280365], [0.1898804008960724], [0.18987412750720978], [0.18986816704273224], [0.18986251950263977], [0.18985716998577118], [0.18985208868980408], [0.18984726071357727], [0.18984270095825195], [0.18983837962150574], [0.18983426690101624], [0.18983037769794464], [0.18982668220996857], [0.18982316553592682], [0.1898198425769806], [0.18981671333312988], [0.1898137480020523], [0.18981091678142548], [0.18980826437473297], [0.18980571627616882], [0.18980330228805542], [0.18980102241039276], [0.18979884684085846], [0.18979677557945251], [0.18979483842849731], [0.18979297578334808], [0.1897912323474884], [0.1897895634174347], [0.18978798389434814], [0.18978647887706757], [0.18978506326675415], [0.1897837221622467], [0.18978245556354523], [0.18978124856948853], [0.1897801011800766], [0.18977901339530945], [0.18977798521518707], [0.18977700173854828], [0.18977604806423187], [0.18977515399456024], [0.1897743195295334], [0.1897735595703125], [0.18977276980876923], [0.18977205455303192], [0.189771369099617], [0.18977071344852448], [0.18977010250091553], [0.18976953625679016], [0.1897689700126648], [0.1897684633731842], [0.1897679716348648], [0.1897674947977066], [0.18976706266403198], [0.18976664543151855], [0.18976624310016632], [0.18976588547229767], [0.1897655427455902], [0.18976520001888275], [0.1897648721933365], [0.18976455926895142], [0.18976426124572754], [0.18976397812366486], [0.18976372480392456], [0.18976345658302307], [0.18976321816444397], [0.18976297974586487], [0.18976277112960815], [0.18976257741451263], [0.18976238369941711], [0.1897622048854828], [0.18976201117038727], [0.18976184725761414], [0.189761683344841], [0.18976153433322906], [0.18976140022277832], [0.18976126611232758], [0.18976116180419922], [0.18976104259490967], [0.1897609531879425], [0.18976084887981415], [0.18976075947284698], [0.18976067006587982], [0.18976059556007385], [0.1897605061531067], [0.18976044654846191], [0.18976037204265594], [0.18976031243801117], [0.1897602528333664], [0.18976019322872162], [0.18976011872291565], [0.18976007401943207], [0.1897599995136261], [0.18975995481014252], [0.18975989520549774], [0.18975983560085297], [0.18975979089736938], [0.189759761095047], [0.1897597312927246], [0.18975970149040222], [0.18975968658924103], [0.18975965678691864], [0.18975961208343506], [0.18975958228111267], [0.1897595375776291], [0.1897595226764679], [0.1897594928741455], [0.18975946307182312], [0.18975944817066193], [0.18975941836833954], [0.18975940346717834], [0.18975938856601715], [0.18975937366485596], [0.18975935876369476], [0.18975934386253357], [0.18975932896137238], [0.18975929915905], [0.1897592842578888], [0.1897592544555664], [0.18975922465324402], [0.18975920975208282], [0.18975917994976044], [0.18975915014743805], [0.18975912034511566], [0.18975910544395447], [0.18975909054279327], [0.18975909054279327], [0.18975909054279327], [0.18975909054279327], [0.18975909054279327], [0.18975909054279327], [0.18975909054279327], [0.18975909054279327], [0.18975909054279327], [0.18975909054279327], [0.18975907564163208], [0.1897590607404709], [0.1897590458393097], [0.1897590458393097], [0.1897590309381485], [0.1897590160369873], [0.1897590160369873], [0.18975898623466492], [0.18975898623466492], [0.18975897133350372], [0.18975895643234253], [0.18975894153118134], [0.18975892663002014], [0.18975892663002014], [0.18975891172885895], [0.18975889682769775], [0.18975889682769775], [0.18975889682769775], [0.18975889682769775], [0.18975889682769775], [0.18975889682769775], [0.18975889682769775], [0.18975889682769775], [0.18975889682769775], [0.18975889682769775], [0.18975889682769775], [0.18975889682769775], [0.18975889682769775], [0.18975889682769775], [0.18975889682769775], [0.18975889682769775], [0.18975888192653656], [0.18975888192653656], [0.18975886702537537], [0.18975886702537537], [0.18975886702537537], [0.18975885212421417], [0.18975885212421417], [0.18975885212421417], [0.18975885212421417], [0.18975885212421417], [0.18975885212421417], [0.18975885212421417], [0.18975885212421417], [0.18975885212421417], [0.18975885212421417], [0.18975885212421417]]\n"
     ]
    }
   ],
   "source": [
    "#creating a moving 60 days window whereby the predicted price for days after 24 Noc 2022 is used as the label data to predict the subsequent days ahead.\n",
    "\n",
    "predicted_output = []                                   #an empty list to store all the predicted prices past 24 Nov 2022\n",
    "back_days = 60\n",
    "i=0\n",
    "\n",
    "while (i<187):                                          #we are trying to predict the prices each day for the next 187 days up till 1 June 2023\n",
    "\n",
    "    if len(last_60days_list)> 60:                        #this part runs after the price on 25 Nov 2022 is predicted and appended to last_60days_list\n",
    "        last_60days = np.array(last_60days_list[1:])     #taking the most recent 60 days data. In the first iteration of the loop, the predicted price of 25 Nov 2022 is taken as the 1st data point and 60 days is counted backwards from there\n",
    "        last_60days = last_60days.reshape(1,-1)\n",
    "        last_60days = last_60days.reshape((1,back_days,1))\n",
    "        future_predict = model.predict(last_60days,verbose=0)\n",
    "        last_60days_list.extend(future_predict[0].tolist())      #predicting future prices and appending it to the last_60days_list\n",
    "        last_60days_list = last_60days_list[1:]                  #moving the 60 days window 1 day forward for every iteration of the loop\n",
    "        predicted_output.extend(future_predict.tolist())         #appending the predictions to predicted_output list\n",
    "        i=i+1\n",
    "    else:\n",
    "        last_60days = last_60days.reshape((1,back_days,1))       #the else part of the while loop will run first, since len(last_60days_list) = 60. This part predicts the price on 25 Nov 2022, the first day after 24 Nov 2022 which is when the real world data ends\n",
    "        future_predict = model.predict(last_60days,verbose=0)\n",
    "        last_60days_list.extend(future_predict[0].tolist())      #appending the predicted price of 25 Nov 2022 to the last 60 days price data.\n",
    "        predicted_output.extend(future_predict.tolist())         #adding the predicted price of 25 Nov 2022 to the predicted_output list\n",
    "        i=i+1\n",
    "\n",
    "\n",
    "print(predicted_output)"
   ]
  },
  {
   "cell_type": "code",
   "execution_count": 46,
   "metadata": {},
   "outputs": [],
   "source": [
    "predicted_output_unscaled = scaler.inverse_transform(predicted_output)"
   ]
  },
  {
   "cell_type": "code",
   "execution_count": 52,
   "metadata": {},
   "outputs": [],
   "source": [
    "ethereum_futures_df = pd.DataFrame({'Date': pd.date_range('2022-11-25','2023-05-30')})\n",
    "ethereum_futures_df['Predicted Price'] = predicted_output_unscaled\n",
    "\n",
    "#constructing a dataframe to store the predicted data from 25 Nov 2022 to 30 May 2023"
   ]
  },
  {
   "cell_type": "markdown",
   "metadata": {},
   "source": [
    "### Visualizing the predicted data outside of the timeframe of real world data"
   ]
  },
  {
   "cell_type": "code",
   "execution_count": 53,
   "metadata": {},
   "outputs": [
    {
     "data": {
      "text/plain": [
       "Text(0, 0.5, 'Price in USD')"
      ]
     },
     "execution_count": 53,
     "metadata": {},
     "output_type": "execute_result"
    },
    {
     "data": {
      "image/png": "[encoded data removed]",
      "text/plain": [
       "<Figure size 1440x720 with 1 Axes>"
      ]
     },
     "metadata": {},
     "output_type": "display_data"
    }
   ],
   "source": [
    "fig2,ax = plt.subplots(figsize = (20,10))\n",
    "ethereum_df.plot(x='Date',y='Close', color = 'blue',ax=ax)\n",
    "ethereum_futures_df.plot(x='Date',y='Predicted Price',color='r', ax=ax)\n",
    "x=['2015','2016','2017','2018','2019','2020','2021','2022','2023']\n",
    "labels = ['2015','2016','2017','2018','2019','2020','2021','2022','2023']\n",
    "ax.set_xticks(x,labels)\n",
    "fig2.set_facecolor('White')\n",
    "ax.set_title('ETH Price Prediction till first 1 June 2023')\n",
    "ax.set_ylabel('Price in USD')"
   ]
  },
  {
   "cell_type": "code",
   "execution_count": null,
   "metadata": {},
   "outputs": [],
   "source": [
    "# Credits to the following URLs for helping me with the coding \n",
    "\n",
    "# https://medium.com/the-handbook-of-coding-in-finance/stock-prices-prediction-using-long-short-term-memory-lstm-model-in-python-734dd1ed6827\n",
    "\n",
    "# HTTPS://WWW.YOUTUBE.COM/WATCH?V=5GM3BWNBOWQ\n"
   ]
  }
 ],
 "metadata": {
  "kernelspec": {
   "display_name": "Python 3.10.4 ('DS102')",
   "language": "python",
   "name": "python3"
  },
  "language_info": {
   "codemirror_mode": {
    "name": "ipython",
    "version": 3
   },
   "file_extension": ".py",
   "mimetype": "text/x-python",
   "name": "python",
   "nbconvert_exporter": "python",
   "pygments_lexer": "ipython3",
   "version": "3.10.4"
  },
  "orig_nbformat": 4,
  "vscode": {
   "interpreter": {
    "hash": "9678ed7ea4b269329afd329694b38e4e0d862bc6ec83d46e03da15913322d4f3"
   }
  }
 },
 "nbformat": 4,
 "nbformat_minor": 2
}
